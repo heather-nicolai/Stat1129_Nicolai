{
 "cells": [
  {
   "cell_type": "markdown",
   "metadata": {},
   "source": [
    "Question 1 "
   ]
  },
  {
   "cell_type": "code",
   "execution_count": 1,
   "metadata": {},
   "outputs": [
    {
     "name": "stdout",
     "output_type": "stream",
     "text": [
      "5:30\n"
     ]
    }
   ],
   "source": [
    "class Clock(): \n",
    "    def __init__(self, time): \n",
    "        self.time = time\n",
    "    def print_time(self): \n",
    "        time = '6:30'\n",
    "        print(self.time)\n",
    "        \n",
    "clock = Clock ('5:30')\n",
    "clock.print_time()"
   ]
  },
  {
   "cell_type": "markdown",
   "metadata": {},
   "source": [
    "Question 2"
   ]
  },
  {
   "cell_type": "code",
   "execution_count": 2,
   "metadata": {},
   "outputs": [
    {
     "name": "stdout",
     "output_type": "stream",
     "text": [
      "10:30\n"
     ]
    }
   ],
   "source": [
    "class Clock():\n",
    "    def __init__(self,time):\n",
    "        self.time = time \n",
    "    def print_time(self,time): \n",
    "        print (time)\n",
    "        \n",
    "clock = Clock('5:30')\n",
    "clock.print_time('10:30')\n"
   ]
  },
  {
   "cell_type": "markdown",
   "metadata": {},
   "source": [
    "Question 3"
   ]
  },
  {
   "cell_type": "code",
   "execution_count": 4,
   "metadata": {},
   "outputs": [
    {
     "name": "stdout",
     "output_type": "stream",
     "text": [
      "5:30\n",
      "10:30\n"
     ]
    }
   ],
   "source": [
    "class Clock(): \n",
    "    def __init__(self, time): \n",
    "        self.time = time \n",
    "    def print_time(self): \n",
    "        print (self.time)\n",
    "\n",
    "class Clock1(Clock): \n",
    "    pass \n",
    "\n",
    "boston_clock = Clock('5:30')\n",
    "paris_clock = Clock1('10:30')\n",
    "\n",
    "boston_clock.print_time()\n",
    "paris_clock.print_time()\n"
   ]
  },
  {
   "cell_type": "code",
   "execution_count": 146,
   "metadata": {},
   "outputs": [],
   "source": [
    "class Queue: \n",
    "    #initilize queue\n",
    "    def __init__(self):\n",
    "        self.queue = list()\n",
    "    #insert element to queue\n",
    "    def enqueue(self,data):\n",
    "        if data not in self.queue:\n",
    "            self.queue.insert(0,data)\n",
    "            return data \n",
    "        return data\n",
    "    #remove element from queue / empty message     \n",
    "    def dequeue(self):\n",
    "        if len(self.queue)>0: \n",
    "            return self.queue.pop()\n",
    "        return (\"Queue is empty\")\n",
    "    #print queue\n",
    "    def printQueue(self): \n",
    "        return self.queue\n",
    "        "
   ]
  },
  {
   "cell_type": "code",
   "execution_count": 147,
   "metadata": {},
   "outputs": [
    {
     "name": "stdout",
     "output_type": "stream",
     "text": [
      "5\n",
      "6\n"
     ]
    }
   ],
   "source": [
    "myQueue = Queue()\n",
    "print(myQueue.enqueue(5))\n",
    "print(myQueue.enqueue(6))\n"
   ]
  },
  {
   "cell_type": "code",
   "execution_count": 150,
   "metadata": {},
   "outputs": [
    {
     "name": "stdout",
     "output_type": "stream",
     "text": [
      "6\n",
      "7\n"
     ]
    }
   ],
   "source": [
    "print(myQueue.dequeue())\n",
    "print(myQueue.enqueue(7))"
   ]
  },
  {
   "cell_type": "code",
   "execution_count": 143,
   "metadata": {},
   "outputs": [
    {
     "name": "stdout",
     "output_type": "stream",
     "text": [
      "Queue is empty\n"
     ]
    }
   ],
   "source": [
    "print(myQueue.dequeue())\n"
   ]
  },
  {
   "cell_type": "code",
   "execution_count": null,
   "metadata": {},
   "outputs": [],
   "source": []
  }
 ],
 "metadata": {
  "kernelspec": {
   "display_name": "Python 3",
   "language": "python",
   "name": "python3"
  },
  "language_info": {
   "codemirror_mode": {
    "name": "ipython",
    "version": 3
   },
   "file_extension": ".py",
   "mimetype": "text/x-python",
   "name": "python",
   "nbconvert_exporter": "python",
   "pygments_lexer": "ipython3",
   "version": "3.8.5"
  }
 },
 "nbformat": 4,
 "nbformat_minor": 4
}

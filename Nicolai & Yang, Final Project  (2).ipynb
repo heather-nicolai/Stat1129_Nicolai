{
 "cells": [
  {
   "cell_type": "code",
   "execution_count": 28,
   "metadata": {},
   "outputs": [],
   "source": [
    "def randomComputer(): \n",
    "    action = actions=['R', 'P', 'S']\n",
    "    return random.choice(actions)\n"
   ]
  },
  {
   "cell_type": "code",
   "execution_count": 9,
   "metadata": {},
   "outputs": [],
   "source": [
    "def result(choice, computer):\n",
    "    if choice==computer:\n",
    "        print(f'Both players chose {choice}. It is a tie!')\n",
    "        return 2\n",
    "    elif choice=='R':\n",
    "        if computer=='S':\n",
    "            print('Rock beats scissor! Congrats!')\n",
    "            return 0\n",
    "        else:\n",
    "            print('Paper beats rock! Sorry.')\n",
    "            return 1\n",
    "    elif choice=='P':\n",
    "        if computer=='R':\n",
    "            print('Paper beats rock! Congrats!')\n",
    "            return 0\n",
    "        else:\n",
    "            print('Scissor beats paper! Sorry.')\n",
    "            return 1\n",
    "    elif choice=='S':\n",
    "        if computer=='P':\n",
    "            print('Scissor beats paper! Congrats!')\n",
    "            return 0\n",
    "        else:\n",
    "            print('Rock beats scissor! Sorry.')\n",
    "            return 1\n",
    "    \n",
    "    "
   ]
  },
  {
   "cell_type": "code",
   "execution_count": 59,
   "metadata": {},
   "outputs": [],
   "source": [
    "def validate(userInput):\n",
    "    if userInput == 'R' or userInput == 'P' or userInput == 'S':\n",
    "        return 0\n",
    "    print(\"Input is wrong please enter S R or P\")\n",
    "    return 1\n",
    "    "
   ]
  },
  {
   "cell_type": "code",
   "execution_count": 61,
   "metadata": {},
   "outputs": [],
   "source": [
    "def scorekeeper( result): \n",
    "    if result == 0: \n",
    "        return 0\n",
    "    else: \n",
    "        if result == 2:\n",
    "            return 2\n",
    "        return 1"
   ]
  },
  {
   "cell_type": "code",
   "execution_count": 62,
   "metadata": {},
   "outputs": [],
   "source": [
    "def main(): \n",
    "\n",
    "    score = [0,0,0]\n",
    "    i = 1 \n",
    "    play = True\n",
    "    while play: \n",
    "        choice=input('Enter R, P, or S: ')\n",
    "        if validate(choice) == 1:\n",
    "            continue\n",
    "        results = result(choice, randomComputer())\n",
    "        score[scorekeeper(results)] += 1      \n",
    "        print(f\"\\t User: {score[0]} : Computer: {score[1]} : TIE: {score[2]}\")\n",
    "        playagain = input(\"Do you want to play againt? enter 0 for yes, 1 for no\")\n",
    "        if playagain == 1:\n",
    "            play = False\n",
    "        \n",
    "            "
   ]
  },
  {
   "cell_type": "code",
   "execution_count": null,
   "metadata": {
    "scrolled": true
   },
   "outputs": [
    {
     "name": "stdout",
     "output_type": "stream",
     "text": [
      "Enter R, P, or S: R\n",
      "Paper beats rock! Sorry.\n",
      "\t User: 0 : Computer: 1 : TIE: 0\n",
      "Do you want to play againt? enter 0 for yes, 1 for no0\n",
      "Enter R, P, or S: R\n",
      "Paper beats rock! Sorry.\n",
      "\t User: 0 : Computer: 2 : TIE: 0\n",
      "Do you want to play againt? enter 0 for yes, 1 for no0\n",
      "Enter R, P, or S: R\n",
      "Rock beats scissor! Congrats!\n",
      "\t User: 1 : Computer: 2 : TIE: 0\n",
      "Do you want to play againt? enter 0 for yes, 1 for no1\n",
      "Enter R, P, or S: \n",
      "Input is wrong please enter S R or P\n"
     ]
    }
   ],
   "source": [
    "import random\n",
    "if __name__ == \"__main__\":\n",
    "    main()"
   ]
  },
  {
   "cell_type": "code",
   "execution_count": null,
   "metadata": {},
   "outputs": [],
   "source": []
  }
 ],
 "metadata": {
  "kernelspec": {
   "display_name": "Python 3",
   "language": "python",
   "name": "python3"
  },
  "language_info": {
   "codemirror_mode": {
    "name": "ipython",
    "version": 3
   },
   "file_extension": ".py",
   "mimetype": "text/x-python",
   "name": "python",
   "nbconvert_exporter": "python",
   "pygments_lexer": "ipython3",
   "version": "3.8.5"
  }
 },
 "nbformat": 4,
 "nbformat_minor": 4
}

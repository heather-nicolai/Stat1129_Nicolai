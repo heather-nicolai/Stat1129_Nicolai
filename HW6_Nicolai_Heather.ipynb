{
 "cells": [
  {
   "cell_type": "markdown",
   "metadata": {},
   "source": [
    "Question 1: Use R to create the following two matrices and do the indicated matrix multiplication. "
   ]
  },
  {
   "cell_type": "code",
   "execution_count": 12,
   "metadata": {},
   "outputs": [
    {
     "data": {
      "text/html": [
       "<table>\n",
       "<tbody>\n",
       "\t<tr><td>7 </td><td>9 </td><td>12</td></tr>\n",
       "\t<tr><td>2 </td><td>4 </td><td>13</td></tr>\n",
       "</tbody>\n",
       "</table>\n"
      ],
      "text/latex": [
       "\\begin{tabular}{lll}\n",
       "\t 7  & 9  & 12\\\\\n",
       "\t 2  & 4  & 13\\\\\n",
       "\\end{tabular}\n"
      ],
      "text/markdown": [
       "\n",
       "| 7  | 9  | 12 |\n",
       "| 2  | 4  | 13 |\n",
       "\n"
      ],
      "text/plain": [
       "     [,1] [,2] [,3]\n",
       "[1,] 7    9    12  \n",
       "[2,] 2    4    13  "
      ]
     },
     "metadata": {},
     "output_type": "display_data"
    }
   ],
   "source": [
    "matrixa <- matrix(c(7, 2, 9, 4, 12, 13), nrow = 2, ncol = 3)\n",
    "matrixa"
   ]
  },
  {
   "cell_type": "code",
   "execution_count": 13,
   "metadata": {},
   "outputs": [
    {
     "data": {
      "text/html": [
       "<table>\n",
       "<tbody>\n",
       "\t<tr><td>1 </td><td>7 </td><td>12</td><td>19</td></tr>\n",
       "\t<tr><td>2 </td><td>8 </td><td>13</td><td>20</td></tr>\n",
       "\t<tr><td>3 </td><td>9 </td><td>14</td><td>21</td></tr>\n",
       "</tbody>\n",
       "</table>\n"
      ],
      "text/latex": [
       "\\begin{tabular}{llll}\n",
       "\t 1  & 7  & 12 & 19\\\\\n",
       "\t 2  & 8  & 13 & 20\\\\\n",
       "\t 3  & 9  & 14 & 21\\\\\n",
       "\\end{tabular}\n"
      ],
      "text/markdown": [
       "\n",
       "| 1  | 7  | 12 | 19 |\n",
       "| 2  | 8  | 13 | 20 |\n",
       "| 3  | 9  | 14 | 21 |\n",
       "\n"
      ],
      "text/plain": [
       "     [,1] [,2] [,3] [,4]\n",
       "[1,] 1    7    12   19  \n",
       "[2,] 2    8    13   20  \n",
       "[3,] 3    9    14   21  "
      ]
     },
     "metadata": {},
     "output_type": "display_data"
    }
   ],
   "source": [
    "matrixb <- matrix(c(1,2,3,7,8,9,12,13,14,19,20,21), nrow = 3, ncol = 4)\n",
    "matrixb"
   ]
  },
  {
   "cell_type": "code",
   "execution_count": 16,
   "metadata": {},
   "outputs": [
    {
     "data": {
      "text/html": [
       "<table>\n",
       "<tbody>\n",
       "\t<tr><td>61 </td><td>229</td><td>369</td><td>565</td></tr>\n",
       "\t<tr><td>49 </td><td>163</td><td>258</td><td>391</td></tr>\n",
       "</tbody>\n",
       "</table>\n"
      ],
      "text/latex": [
       "\\begin{tabular}{llll}\n",
       "\t 61  & 229 & 369 & 565\\\\\n",
       "\t 49  & 163 & 258 & 391\\\\\n",
       "\\end{tabular}\n"
      ],
      "text/markdown": [
       "\n",
       "| 61  | 229 | 369 | 565 |\n",
       "| 49  | 163 | 258 | 391 |\n",
       "\n"
      ],
      "text/plain": [
       "     [,1] [,2] [,3] [,4]\n",
       "[1,] 61   229  369  565 \n",
       "[2,] 49   163  258  391 "
      ]
     },
     "metadata": {},
     "output_type": "display_data"
    }
   ],
   "source": [
    "matrixa%*%matrixb"
   ]
  },
  {
   "cell_type": "markdown",
   "metadata": {},
   "source": [
    "Question 2: (total 13 points)\n",
    "a. Create a data frame like the following table (2 points)"
   ]
  },
  {
   "cell_type": "code",
   "execution_count": 18,
   "metadata": {},
   "outputs": [
    {
     "data": {
      "text/html": [
       "<table>\n",
       "<thead><tr><th scope=col>id</th><th scope=col>name</th><th scope=col>salary</th></tr></thead>\n",
       "<tbody>\n",
       "\t<tr><td>1       </td><td>Peter   </td><td>623.30  </td></tr>\n",
       "\t<tr><td>2       </td><td>Amy     </td><td>515.20  </td></tr>\n",
       "\t<tr><td>3       </td><td>Ryan    </td><td>611.00  </td></tr>\n",
       "\t<tr><td>4       </td><td>Gary    </td><td>729.00  </td></tr>\n",
       "\t<tr><td>5       </td><td>Michelle</td><td>843.25  </td></tr>\n",
       "</tbody>\n",
       "</table>\n"
      ],
      "text/latex": [
       "\\begin{tabular}{r|lll}\n",
       " id & name & salary\\\\\n",
       "\\hline\n",
       "\t 1        & Peter    & 623.30  \\\\\n",
       "\t 2        & Amy      & 515.20  \\\\\n",
       "\t 3        & Ryan     & 611.00  \\\\\n",
       "\t 4        & Gary     & 729.00  \\\\\n",
       "\t 5        & Michelle & 843.25  \\\\\n",
       "\\end{tabular}\n"
      ],
      "text/markdown": [
       "\n",
       "| id | name | salary |\n",
       "|---|---|---|\n",
       "| 1        | Peter    | 623.30   |\n",
       "| 2        | Amy      | 515.20   |\n",
       "| 3        | Ryan     | 611.00   |\n",
       "| 4        | Gary     | 729.00   |\n",
       "| 5        | Michelle | 843.25   |\n",
       "\n"
      ],
      "text/plain": [
       "  id name     salary\n",
       "1 1  Peter    623.30\n",
       "2 2  Amy      515.20\n",
       "3 3  Ryan     611.00\n",
       "4 4  Gary     729.00\n",
       "5 5  Michelle 843.25"
      ]
     },
     "metadata": {},
     "output_type": "display_data"
    }
   ],
   "source": [
    "data_frame <- data.frame ( \n",
    "    id = c(1:5), \n",
    "    name = c(\"Peter\", \"Amy\", \"Ryan\", \"Gary\", \"Michelle\"), \n",
    "    salary = c(623.30, 515.20, 611.00, 729.00, 843.25)\n",
    ")\n",
    "\n",
    "data_frame"
   ]
  },
  {
   "cell_type": "markdown",
   "metadata": {},
   "source": [
    "b. Then add a column of “department”, and assign department names for the 5 persons, for example,\n",
    "IT, finance, computer science, etc., name your own. (2 points).\n"
   ]
  },
  {
   "cell_type": "code",
   "execution_count": 22,
   "metadata": {},
   "outputs": [
    {
     "data": {
      "text/html": [
       "<table>\n",
       "<thead><tr><th scope=col>department</th></tr></thead>\n",
       "<tbody>\n",
       "\t<tr><td>IT              </td></tr>\n",
       "\t<tr><td>finance         </td></tr>\n",
       "\t<tr><td>computer science</td></tr>\n",
       "\t<tr><td>sales           </td></tr>\n",
       "\t<tr><td>marketing       </td></tr>\n",
       "</tbody>\n",
       "</table>\n"
      ],
      "text/latex": [
       "\\begin{tabular}{r|l}\n",
       " department\\\\\n",
       "\\hline\n",
       "\t IT              \\\\\n",
       "\t finance         \\\\\n",
       "\t computer science\\\\\n",
       "\t sales           \\\\\n",
       "\t marketing       \\\\\n",
       "\\end{tabular}\n"
      ],
      "text/markdown": [
       "\n",
       "| department |\n",
       "|---|\n",
       "| IT               |\n",
       "| finance          |\n",
       "| computer science |\n",
       "| sales            |\n",
       "| marketing        |\n",
       "\n"
      ],
      "text/plain": [
       "  department      \n",
       "1 IT              \n",
       "2 finance         \n",
       "3 computer science\n",
       "4 sales           \n",
       "5 marketing       "
      ]
     },
     "metadata": {},
     "output_type": "display_data"
    }
   ],
   "source": [
    "data_frame2 <- data.frame( \n",
    "    department = c (\"IT\", \"finance\", \"computer science\", \"sales\", \"marketing\"))\n",
    "data_frame2"
   ]
  },
  {
   "cell_type": "code",
   "execution_count": 23,
   "metadata": {},
   "outputs": [
    {
     "data": {
      "text/html": [
       "<table>\n",
       "<thead><tr><th scope=col>id</th><th scope=col>name</th><th scope=col>salary</th><th scope=col>department</th></tr></thead>\n",
       "<tbody>\n",
       "\t<tr><td>1               </td><td>Peter           </td><td>623.30          </td><td>IT              </td></tr>\n",
       "\t<tr><td>2               </td><td>Amy             </td><td>515.20          </td><td>finance         </td></tr>\n",
       "\t<tr><td>3               </td><td>Ryan            </td><td>611.00          </td><td>computer science</td></tr>\n",
       "\t<tr><td>4               </td><td>Gary            </td><td>729.00          </td><td>sales           </td></tr>\n",
       "\t<tr><td>5               </td><td>Michelle        </td><td>843.25          </td><td>marketing       </td></tr>\n",
       "</tbody>\n",
       "</table>\n"
      ],
      "text/latex": [
       "\\begin{tabular}{r|llll}\n",
       " id & name & salary & department\\\\\n",
       "\\hline\n",
       "\t 1                & Peter            & 623.30           & IT              \\\\\n",
       "\t 2                & Amy              & 515.20           & finance         \\\\\n",
       "\t 3                & Ryan             & 611.00           & computer science\\\\\n",
       "\t 4                & Gary             & 729.00           & sales           \\\\\n",
       "\t 5                & Michelle         & 843.25           & marketing       \\\\\n",
       "\\end{tabular}\n"
      ],
      "text/markdown": [
       "\n",
       "| id | name | salary | department |\n",
       "|---|---|---|---|\n",
       "| 1                | Peter            | 623.30           | IT               |\n",
       "| 2                | Amy              | 515.20           | finance          |\n",
       "| 3                | Ryan             | 611.00           | computer science |\n",
       "| 4                | Gary             | 729.00           | sales            |\n",
       "| 5                | Michelle         | 843.25           | marketing        |\n",
       "\n"
      ],
      "text/plain": [
       "  id name     salary department      \n",
       "1 1  Peter    623.30 IT              \n",
       "2 2  Amy      515.20 finance         \n",
       "3 3  Ryan     611.00 computer science\n",
       "4 4  Gary     729.00 sales           \n",
       "5 5  Michelle 843.25 marketing       "
      ]
     },
     "metadata": {},
     "output_type": "display_data"
    }
   ],
   "source": [
    "new_data_frame <- cbind(data_frame, data_frame2)\n",
    "\n",
    "new_data_frame"
   ]
  },
  {
   "cell_type": "markdown",
   "metadata": {},
   "source": [
    "c. Extract 1st, 3rd, and 5th rows, with 2nd and 3rd columns, using c function. (3 points)."
   ]
  },
  {
   "cell_type": "code",
   "execution_count": 25,
   "metadata": {},
   "outputs": [
    {
     "data": {
      "text/html": [
       "<table>\n",
       "<thead><tr><th></th><th scope=col>name</th><th scope=col>salary</th></tr></thead>\n",
       "<tbody>\n",
       "\t<tr><th scope=row>1</th><td>Peter   </td><td>623.30  </td></tr>\n",
       "\t<tr><th scope=row>3</th><td>Ryan    </td><td>611.00  </td></tr>\n",
       "\t<tr><th scope=row>5</th><td>Michelle</td><td>843.25  </td></tr>\n",
       "</tbody>\n",
       "</table>\n"
      ],
      "text/latex": [
       "\\begin{tabular}{r|ll}\n",
       "  & name & salary\\\\\n",
       "\\hline\n",
       "\t1 & Peter    & 623.30  \\\\\n",
       "\t3 & Ryan     & 611.00  \\\\\n",
       "\t5 & Michelle & 843.25  \\\\\n",
       "\\end{tabular}\n"
      ],
      "text/markdown": [
       "\n",
       "| <!--/--> | name | salary |\n",
       "|---|---|---|\n",
       "| 1 | Peter    | 623.30   |\n",
       "| 3 | Ryan     | 611.00   |\n",
       "| 5 | Michelle | 843.25   |\n",
       "\n"
      ],
      "text/plain": [
       "  name     salary\n",
       "1 Peter    623.30\n",
       "3 Ryan     611.00\n",
       "5 Michelle 843.25"
      ]
     },
     "metadata": {},
     "output_type": "display_data"
    }
   ],
   "source": [
    "extract_data_frame = new_data_frame[c(1,3,5), c(2,3)]\n",
    "\n",
    "extract_data_frame"
   ]
  },
  {
   "cell_type": "markdown",
   "metadata": {},
   "source": [
    "d. plot a bar chart to show the salary of row 1,4,5 and label the bar with people’s name correspondingly.\n",
    "(3 points)."
   ]
  },
  {
   "cell_type": "code",
   "execution_count": 33,
   "metadata": {},
   "outputs": [
    {
     "data": {
      "image/png": "[encoded data removed]",
      "text/plain": [
       "plot without title"
      ]
     },
     "metadata": {},
     "output_type": "display_data"
    }
   ],
   "source": [
    "x <- c(\"Peter\", \"Gary\", \"Michelle\")\n",
    "y <- c(623.20, 729.00, 843.25)\n",
    "\n",
    "barplot(y, names.arg = x, xlab= \"name\", ylab = \"salary\", density = 15)"
   ]
  },
  {
   "cell_type": "markdown",
   "metadata": {},
   "source": [
    "e. plot a pie chart, based on this data framework, only showing the highest salary, lowest salary, and\n",
    "median salary, give your plot a title, and label each pie. (3 points)"
   ]
  },
  {
   "cell_type": "code",
   "execution_count": 36,
   "metadata": {},
   "outputs": [
    {
     "data": {
      "text/html": [
       "1981.75"
      ],
      "text/latex": [
       "1981.75"
      ],
      "text/markdown": [
       "1981.75"
      ],
      "text/plain": [
       "[1] 1981.75"
      ]
     },
     "metadata": {},
     "output_type": "display_data"
    }
   ],
   "source": [
    "843.25 + 515.2 + 623.3"
   ]
  },
  {
   "cell_type": "code",
   "execution_count": 38,
   "metadata": {},
   "outputs": [
    {
     "data": {
      "image/png": "[encoded data removed]",
      "text/plain": [
       "Plot with title \"Pie Chart of Highest, Lowest and Median Salary\""
      ]
     },
     "metadata": {},
     "output_type": "display_data"
    }
   ],
   "source": [
    "labels <- c(\"Highest Salary\", \"Lowest Salary\", \"Median Salary\")\n",
    "\n",
    "colors <- c(\"green\", \"red\", \"yellow\") \n",
    "\n",
    "x <- c(843.25/1981.75, 515.2/1981.75, 623.3/1981.75)\n",
    "\n",
    "pie(x, label= labels, main = \"Pie Chart of Highest, Lowest and Median Salary\", col= colors)\n",
    "\n",
    "legend(\"bottomleft\", labels, fill = colors)"
   ]
  },
  {
   "cell_type": "markdown",
   "metadata": {},
   "source": [
    "Question 3: Pick two functions in your final project, transfer that into R programming. One function should\n",
    "involve “if else” (4 points), the other function should involve “for loop or while loop” (4 points).\n",
    "⚫ Test your function, showing your function works. You can assign some values, in order to test the\n",
    "function.\n",
    "⚫ This is individual homework, so you and your team member may pick the same functions, but could\n",
    "have different translations.\n",
    "⚫ Note, in your homework submission, paste your python code with your R code for comparison."
   ]
  },
  {
   "cell_type": "code",
   "execution_count": null,
   "metadata": {},
   "outputs": [],
   "source": [
    "#python code for if else \n",
    "\n",
    "#result function to declare winner of each round\n",
    "\n",
    "#def result(choice, computer):\n",
    "    #if choice==computer:\n",
    "        #print(f'Both players chose {choice}. It is a tie!')\n",
    "        #return 2\n",
    "    #elif choice=='R':\n",
    "        #if computer=='S':\n",
    "           # print('Rock beats scissor! Congrats!')\n",
    "           # return 0\n",
    "      #  else:\n",
    "           # print('Paper beats rock! Sorry.')\n",
    "          #  return 1\n",
    "   # elif choice=='P':\n",
    "       # if computer=='R':\n",
    "           # print('Paper beats rock! Congrats!')\n",
    "           # return 0\n",
    "        #else:\n",
    "       #     print('Scissor beats paper! Sorry.')\n",
    "         #   return 1\n",
    "   # elif choice=='S':\n",
    "      #  if computer=='P':\n",
    "           # print('Scissor beats paper! Congrats!')\n",
    "           # return 0\n",
    "    #    else:\n",
    "            #print('Rock beats scissor! Sorry.')\n",
    "           # return 1\n",
    "    \n",
    "    "
   ]
  },
  {
   "cell_type": "code",
   "execution_count": 37,
   "metadata": {},
   "outputs": [],
   "source": [
    "#python code for while/ for\n",
    "\n",
    "#def main(): \n",
    "\n",
    "    #score = [0,0,0]\n",
    "    #i = 1 \n",
    "   # play = True\n",
    "    #while play: \n",
    "        #choice=input('Enter R, P, or S: ')\n",
    "        #if validate(choice) == 1:\n",
    "            #continue\n",
    "        #results = result(choice, randomComputer())\n",
    "       # score[scorekeeper(results)] += 1      \n",
    "       # print(f\"\\t User: {score[0]} : Computer: {score[1]} : TIE: {score[2]}\")\n",
    "       # playagain = input(\"Do you want to play againt? enter 0 for yes, 1 for no\")\n",
    "       # if playagain == 1:\n",
    "           # play = False\n",
    "        "
   ]
  },
  {
   "cell_type": "code",
   "execution_count": 41,
   "metadata": {},
   "outputs": [],
   "source": [
    "#R code for if/esle \n",
    "\n",
    "#random function / declaring winner of each round \n",
    "game = function(move){\n",
    "      options = c(\"r\", \"p\", \"s\")\n",
    "      ai.move = sample(options, size = 1)\n",
    "      \n",
    "    if(move == \"r\" & ai.move == \"r\"){\n",
    "        names(ai.move) = \"tie\"\n",
    "    }else\n",
    "    if(move == \"r\" & ai.move == \"s\"){\n",
    "        names(ai.move) = \"loss\"\n",
    "    }else\n",
    "    if(move == \"r\" & ai.move == \"p\"){\n",
    "        names(ai.move) = \"win\"\n",
    "    }else\n",
    "    if(move == \"p\" & ai.move == \"p\"){\n",
    "        names(ai.move) = \"tie\"\n",
    "    }else\n",
    "    if(move == \"p\" & ai.move == \"s\"){\n",
    "        names(ai.move) = \"win\"\n",
    "    }else\n",
    "    if(move == \"p\" & ai.move == \"r\"){\n",
    "        names(ai.move) = \"loss\"\n",
    "    }else\n",
    "    if(move == \"s\" & ai.move == \"s\"){\n",
    "        names(ai.move) = \"tie\"\n",
    "    }else\n",
    "    if(move == \"s\" & ai.move == \"r\"){\n",
    "        names(ai.move) = \"win\"\n",
    "    }else\n",
    "    if(move == \"s\" & ai.move == \"p\"){\n",
    "        names(ai.move) = \"loss\"\n",
    "    }\n",
    "      return(ai.move)\n",
    "    }"
   ]
  },
  {
   "cell_type": "code",
   "execution_count": 42,
   "metadata": {},
   "outputs": [],
   "source": [
    "#R code for while/for loop \n",
    "\n",
    "#define your moves in vector \n",
    "you.move = c(\"r\", \"p\", \"s\", \"p\", \"p\", \"r\", \"s\", \"r\", \"p\", \"s\", \"s\", \"s\", \"r\", \"r\", \"p\", \"p\", \"p\", \"s\", \"p\", \"r\", \"p\", \"r\", \"r\", \"s\",\"p\", \"s\", \"s\", \"r\")\n",
    "\n",
    "\n",
    "#run game using the vector of your moves \n",
    "game.random=function(move){\n",
    "    ai.moves = vector(\"character\")\n",
    "    \n",
    "    for(i in 1:length(move)){\n",
    "    ai.move=game(move[i])\n",
    "    ai.moves = append(ai.moves,ai.move, after = length(ai.moves))\n",
    "    }\n",
    "    winrate.random = mean(names(ai.moves) == \"win\")\n",
    "    return(winrate.random)\n",
    "    #return(comp.moves)\n",
    "}\n",
    "results.random = game.random(you.move)"
   ]
  },
  {
   "cell_type": "code",
   "execution_count": null,
   "metadata": {},
   "outputs": [],
   "source": []
  }
 ],
 "metadata": {
  "kernelspec": {
   "display_name": "R",
   "language": "R",
   "name": "ir"
  },
  "language_info": {
   "codemirror_mode": "r",
   "file_extension": ".r",
   "mimetype": "text/x-r-source",
   "name": "R",
   "pygments_lexer": "r",
   "version": "3.6.1"
  }
 },
 "nbformat": 4,
 "nbformat_minor": 4
}

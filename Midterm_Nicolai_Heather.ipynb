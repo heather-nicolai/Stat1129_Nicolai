{
 "cells": [
  {
   "cell_type": "markdown",
   "metadata": {},
   "source": [
    "Question 1 (6 points): Counting the frequencies in a list using dictionary in Python\n",
    "Given an unsorted list of some elements [2,4,6,8,4,5,2,1,9,0,4,6,7,4,3,2,1,9,10,3,7,9,6,0,1,3,5,6,7,8,9,10,2,3,6,8,9,10,6,7,4,3], \n",
    "\n",
    "\tFind the frequency of each distinct element in the list using a dictionary. \n",
    "\tPlot the frequency results, e.g. using bar chart. \n",
    "\tStore this dictionary results into json file. \n"
   ]
  },
  {
   "cell_type": "code",
   "execution_count": 198,
   "metadata": {},
   "outputs": [
    {
     "name": "stdout",
     "output_type": "stream",
     "text": [
      " 0 : 2\n",
      " 1 : 3\n",
      " 2 : 4\n",
      " 3 : 4\n",
      " 4 : 5\n",
      " 5 : 2\n",
      " 6 : 6\n",
      " 7 : 4\n",
      " 8 : 3\n",
      " 9 : 5\n",
      " 10 : 3\n"
     ]
    }
   ],
   "source": [
    "#I used list provided in question\n",
    "unsorted_list= [2,4,6,8,4,5,2,1,9,0,4,6,7,4,3,2,1,9,10,3,7,9,6,0,1,3,5,6,7,8,9,10,2,3,6,8,9,10,6,7,4]\n",
    "unsorted_list.sort()\n",
    "frequency = {}\n",
    "for item in unsorted_list:\n",
    "    if(item in frequency):\n",
    "        frequency[item] += 1\n",
    "    else:\n",
    "        frequency[item] = 1\n",
    "for key, value in frequency.items():\n",
    "    print(\"% d : %s\" % (key, value))\n",
    "    "
   ]
  },
  {
   "cell_type": "code",
   "execution_count": 200,
   "metadata": {},
   "outputs": [],
   "source": [
    "import matplotlib.pyplot as plt\n"
   ]
  },
  {
   "cell_type": "code",
   "execution_count": 213,
   "metadata": {},
   "outputs": [
    {
     "data": {
      "image/png": "[encoded data removed]",
      "text/plain": [
       "<Figure size 432x288 with 1 Axes>"
      ]
     },
     "metadata": {
      "needs_background": "light"
     },
     "output_type": "display_data"
    }
   ],
   "source": [
    "plt.bar(x=range(0,11),\n",
    "        height=(2,3,4,4,5,2,6,4,3,5,3))\n",
    "\n",
    "plt.show()"
   ]
  },
  {
   "cell_type": "code",
   "execution_count": 157,
   "metadata": {},
   "outputs": [
    {
     "name": "stdout",
     "output_type": "stream",
     "text": [
      "{\"0\": 2, \"1\": 3, \"2\": 4, \"3\": 4, \"4\": 5, \"5\": 2, \"6\": 6, \"7\": 4, \"8\": 3, \"9\": 5, \"10\": 3}\n"
     ]
    }
   ],
   "source": [
    "import json\n",
    "x = frequency\n",
    "y =json.dumps(x)\n",
    "\n",
    "print(y)"
   ]
  },
  {
   "cell_type": "markdown",
   "metadata": {},
   "source": [
    "Choice 2: How Much Have You Spent on Amazon? Analyze Amazon Data in different ways, plot your historical transactions amount. You can either summarize that into monthly payment, or show your mean payment, and so on. You can follow https://www.dataquest.io/blog/how-much-spent-amazon-data-analysis/ to download your Amazon order historical data. \n",
    "\n",
    "**I deleted personal information (email/ card info / address) from CSV file before uploading to jupyter**"
   ]
  },
  {
   "cell_type": "code",
   "execution_count": 158,
   "metadata": {},
   "outputs": [],
   "source": [
    "import pandas as pd"
   ]
  },
  {
   "cell_type": "code",
   "execution_count": 159,
   "metadata": {
    "scrolled": true
   },
   "outputs": [
    {
     "data": {
      "text/html": [
       "<div>\n",
       "<style scoped>\n",
       "    .dataframe tbody tr th:only-of-type {\n",
       "        vertical-align: middle;\n",
       "    }\n",
       "\n",
       "    .dataframe tbody tr th {\n",
       "        vertical-align: top;\n",
       "    }\n",
       "\n",
       "    .dataframe thead th {\n",
       "        text-align: right;\n",
       "    }\n",
       "</style>\n",
       "<table border=\"1\" class=\"dataframe\">\n",
       "  <thead>\n",
       "    <tr style=\"text-align: right;\">\n",
       "      <th></th>\n",
       "      <th>Order Date</th>\n",
       "      <th>Order ID</th>\n",
       "      <th>Website</th>\n",
       "      <th>Purchase Order Number</th>\n",
       "      <th>Shipment Date</th>\n",
       "      <th>Shipping Address State</th>\n",
       "      <th>Shipping Address Zip</th>\n",
       "      <th>Subtotal</th>\n",
       "      <th>Shipping Charge</th>\n",
       "      <th>Tax Before Promotions</th>\n",
       "      <th>Total Promotions</th>\n",
       "      <th>Tax Charged</th>\n",
       "      <th>Total Charged</th>\n",
       "      <th>Group Name</th>\n",
       "    </tr>\n",
       "  </thead>\n",
       "  <tbody>\n",
       "    <tr>\n",
       "      <th>0</th>\n",
       "      <td>1/6/2020</td>\n",
       "      <td>112-0117099-7511406</td>\n",
       "      <td>Amazon.com</td>\n",
       "      <td>NaN</td>\n",
       "      <td>1/7/2020</td>\n",
       "      <td>MA</td>\n",
       "      <td>02633-2284</td>\n",
       "      <td>$481.00</td>\n",
       "      <td>$0.00</td>\n",
       "      <td>$30.06</td>\n",
       "      <td>$0.00</td>\n",
       "      <td>$30.06</td>\n",
       "      <td>$511.06</td>\n",
       "      <td>NaN</td>\n",
       "    </tr>\n",
       "    <tr>\n",
       "      <th>1</th>\n",
       "      <td>1/7/2020</td>\n",
       "      <td>114-6057375-7403423</td>\n",
       "      <td>Amazon.com</td>\n",
       "      <td>NaN</td>\n",
       "      <td>8/27/2019</td>\n",
       "      <td>DC</td>\n",
       "      <td>20052-0083</td>\n",
       "      <td>$26.52</td>\n",
       "      <td>$0.00</td>\n",
       "      <td>$1.59</td>\n",
       "      <td>$0.00</td>\n",
       "      <td>$1.59</td>\n",
       "      <td>$28.11</td>\n",
       "      <td>NaN</td>\n",
       "    </tr>\n",
       "    <tr>\n",
       "      <th>2</th>\n",
       "      <td>1/13/2020</td>\n",
       "      <td>114-8549890-7717034</td>\n",
       "      <td>Amazon.com</td>\n",
       "      <td>NaN</td>\n",
       "      <td>1/15/2020</td>\n",
       "      <td>DC</td>\n",
       "      <td>20052-0083</td>\n",
       "      <td>$34.20</td>\n",
       "      <td>$3.99</td>\n",
       "      <td>$2.29</td>\n",
       "      <td>$0.00</td>\n",
       "      <td>$2.29</td>\n",
       "      <td>$40.48</td>\n",
       "      <td>NaN</td>\n",
       "    </tr>\n",
       "    <tr>\n",
       "      <th>3</th>\n",
       "      <td>1/13/2020</td>\n",
       "      <td>114-0584976-7405034</td>\n",
       "      <td>Amazon.com</td>\n",
       "      <td>NaN</td>\n",
       "      <td>1/14/2020</td>\n",
       "      <td>DC</td>\n",
       "      <td>20052-0083</td>\n",
       "      <td>$57.15</td>\n",
       "      <td>$0.00</td>\n",
       "      <td>$3.43</td>\n",
       "      <td>$0.00</td>\n",
       "      <td>$3.43</td>\n",
       "      <td>$60.58</td>\n",
       "      <td>NaN</td>\n",
       "    </tr>\n",
       "    <tr>\n",
       "      <th>4</th>\n",
       "      <td>1/16/2020</td>\n",
       "      <td>114-8401554-6167469</td>\n",
       "      <td>Amazon.com</td>\n",
       "      <td>NaN</td>\n",
       "      <td>1/17/2020</td>\n",
       "      <td>MA</td>\n",
       "      <td>02633-2616</td>\n",
       "      <td>$49.62</td>\n",
       "      <td>$0.00</td>\n",
       "      <td>$3.10</td>\n",
       "      <td>$0.00</td>\n",
       "      <td>$3.10</td>\n",
       "      <td>$52.72</td>\n",
       "      <td>NaN</td>\n",
       "    </tr>\n",
       "  </tbody>\n",
       "</table>\n",
       "</div>"
      ],
      "text/plain": [
       "  Order Date             Order ID     Website  Purchase Order Number  \\\n",
       "0   1/6/2020  112-0117099-7511406  Amazon.com                    NaN   \n",
       "1   1/7/2020  114-6057375-7403423  Amazon.com                    NaN   \n",
       "2  1/13/2020  114-8549890-7717034  Amazon.com                    NaN   \n",
       "3  1/13/2020  114-0584976-7405034  Amazon.com                    NaN   \n",
       "4  1/16/2020  114-8401554-6167469  Amazon.com                    NaN   \n",
       "\n",
       "  Shipment Date Shipping Address State Shipping Address Zip  Subtotal  \\\n",
       "0      1/7/2020                     MA           02633-2284  $481.00    \n",
       "1     8/27/2019                     DC           20052-0083   $26.52    \n",
       "2     1/15/2020                     DC           20052-0083   $34.20    \n",
       "3     1/14/2020                     DC           20052-0083   $57.15    \n",
       "4     1/17/2020                     MA           02633-2616   $49.62    \n",
       "\n",
       "  Shipping Charge Tax Before Promotions Total Promotions Tax Charged  \\\n",
       "0          $0.00                $30.06            $0.00      $30.06    \n",
       "1          $0.00                 $1.59            $0.00       $1.59    \n",
       "2          $3.99                 $2.29            $0.00       $2.29    \n",
       "3          $0.00                 $3.43            $0.00       $3.43    \n",
       "4          $0.00                 $3.10            $0.00       $3.10    \n",
       "\n",
       "  Total Charged  Group Name  \n",
       "0      $511.06          NaN  \n",
       "1       $28.11          NaN  \n",
       "2       $40.48          NaN  \n",
       "3       $60.58          NaN  \n",
       "4       $52.72          NaN  "
      ]
     },
     "execution_count": 159,
     "metadata": {},
     "output_type": "execute_result"
    }
   ],
   "source": [
    "#upload/read csv file\n",
    "df = pd.read_csv('Amazon Orders 2020.csv')\n",
    "df.head()"
   ]
  },
  {
   "cell_type": "code",
   "execution_count": 160,
   "metadata": {},
   "outputs": [
    {
     "data": {
      "text/html": [
       "<div>\n",
       "<style scoped>\n",
       "    .dataframe tbody tr th:only-of-type {\n",
       "        vertical-align: middle;\n",
       "    }\n",
       "\n",
       "    .dataframe tbody tr th {\n",
       "        vertical-align: top;\n",
       "    }\n",
       "\n",
       "    .dataframe thead th {\n",
       "        text-align: right;\n",
       "    }\n",
       "</style>\n",
       "<table border=\"1\" class=\"dataframe\">\n",
       "  <thead>\n",
       "    <tr style=\"text-align: right;\">\n",
       "      <th></th>\n",
       "      <th>Order Date</th>\n",
       "      <th>Order ID</th>\n",
       "      <th>Website</th>\n",
       "      <th>Purchase Order Number</th>\n",
       "      <th>Shipment Date</th>\n",
       "      <th>Shipping Address State</th>\n",
       "      <th>Shipping Address Zip</th>\n",
       "      <th>Subtotal</th>\n",
       "      <th>Shipping Charge</th>\n",
       "      <th>Tax Before Promotions</th>\n",
       "      <th>Total Promotions</th>\n",
       "      <th>Tax Charged</th>\n",
       "      <th>Total Charged</th>\n",
       "    </tr>\n",
       "  </thead>\n",
       "  <tbody>\n",
       "    <tr>\n",
       "      <th>0</th>\n",
       "      <td>1/6/2020</td>\n",
       "      <td>112-0117099-7511406</td>\n",
       "      <td>Amazon.com</td>\n",
       "      <td>NaN</td>\n",
       "      <td>1/7/2020</td>\n",
       "      <td>MA</td>\n",
       "      <td>02633-2284</td>\n",
       "      <td>$481.00</td>\n",
       "      <td>$0.00</td>\n",
       "      <td>$30.06</td>\n",
       "      <td>$0.00</td>\n",
       "      <td>$30.06</td>\n",
       "      <td>$511.06</td>\n",
       "    </tr>\n",
       "    <tr>\n",
       "      <th>1</th>\n",
       "      <td>1/7/2020</td>\n",
       "      <td>114-6057375-7403423</td>\n",
       "      <td>Amazon.com</td>\n",
       "      <td>NaN</td>\n",
       "      <td>8/27/2019</td>\n",
       "      <td>DC</td>\n",
       "      <td>20052-0083</td>\n",
       "      <td>$26.52</td>\n",
       "      <td>$0.00</td>\n",
       "      <td>$1.59</td>\n",
       "      <td>$0.00</td>\n",
       "      <td>$1.59</td>\n",
       "      <td>$28.11</td>\n",
       "    </tr>\n",
       "    <tr>\n",
       "      <th>2</th>\n",
       "      <td>1/13/2020</td>\n",
       "      <td>114-8549890-7717034</td>\n",
       "      <td>Amazon.com</td>\n",
       "      <td>NaN</td>\n",
       "      <td>1/15/2020</td>\n",
       "      <td>DC</td>\n",
       "      <td>20052-0083</td>\n",
       "      <td>$34.20</td>\n",
       "      <td>$3.99</td>\n",
       "      <td>$2.29</td>\n",
       "      <td>$0.00</td>\n",
       "      <td>$2.29</td>\n",
       "      <td>$40.48</td>\n",
       "    </tr>\n",
       "    <tr>\n",
       "      <th>3</th>\n",
       "      <td>1/13/2020</td>\n",
       "      <td>114-0584976-7405034</td>\n",
       "      <td>Amazon.com</td>\n",
       "      <td>NaN</td>\n",
       "      <td>1/14/2020</td>\n",
       "      <td>DC</td>\n",
       "      <td>20052-0083</td>\n",
       "      <td>$57.15</td>\n",
       "      <td>$0.00</td>\n",
       "      <td>$3.43</td>\n",
       "      <td>$0.00</td>\n",
       "      <td>$3.43</td>\n",
       "      <td>$60.58</td>\n",
       "    </tr>\n",
       "    <tr>\n",
       "      <th>4</th>\n",
       "      <td>1/16/2020</td>\n",
       "      <td>114-8401554-6167469</td>\n",
       "      <td>Amazon.com</td>\n",
       "      <td>NaN</td>\n",
       "      <td>1/17/2020</td>\n",
       "      <td>MA</td>\n",
       "      <td>02633-2616</td>\n",
       "      <td>$49.62</td>\n",
       "      <td>$0.00</td>\n",
       "      <td>$3.10</td>\n",
       "      <td>$0.00</td>\n",
       "      <td>$3.10</td>\n",
       "      <td>$52.72</td>\n",
       "    </tr>\n",
       "  </tbody>\n",
       "</table>\n",
       "</div>"
      ],
      "text/plain": [
       "  Order Date             Order ID     Website  Purchase Order Number  \\\n",
       "0   1/6/2020  112-0117099-7511406  Amazon.com                    NaN   \n",
       "1   1/7/2020  114-6057375-7403423  Amazon.com                    NaN   \n",
       "2  1/13/2020  114-8549890-7717034  Amazon.com                    NaN   \n",
       "3  1/13/2020  114-0584976-7405034  Amazon.com                    NaN   \n",
       "4  1/16/2020  114-8401554-6167469  Amazon.com                    NaN   \n",
       "\n",
       "  Shipment Date Shipping Address State Shipping Address Zip  Subtotal  \\\n",
       "0      1/7/2020                     MA           02633-2284  $481.00    \n",
       "1     8/27/2019                     DC           20052-0083   $26.52    \n",
       "2     1/15/2020                     DC           20052-0083   $34.20    \n",
       "3     1/14/2020                     DC           20052-0083   $57.15    \n",
       "4     1/17/2020                     MA           02633-2616   $49.62    \n",
       "\n",
       "  Shipping Charge Tax Before Promotions Total Promotions Tax Charged  \\\n",
       "0          $0.00                $30.06            $0.00      $30.06    \n",
       "1          $0.00                 $1.59            $0.00       $1.59    \n",
       "2          $3.99                 $2.29            $0.00       $2.29    \n",
       "3          $0.00                 $3.43            $0.00       $3.43    \n",
       "4          $0.00                 $3.10            $0.00       $3.10    \n",
       "\n",
       "  Total Charged  \n",
       "0      $511.06   \n",
       "1       $28.11   \n",
       "2       $40.48   \n",
       "3       $60.58   \n",
       "4       $52.72   "
      ]
     },
     "execution_count": 160,
     "metadata": {},
     "output_type": "execute_result"
    }
   ],
   "source": [
    "#remove group name column\n",
    "df.pop('Group Name')\n",
    "df.head()"
   ]
  },
  {
   "cell_type": "code",
   "execution_count": 161,
   "metadata": {},
   "outputs": [
    {
     "data": {
      "text/html": [
       "<div>\n",
       "<style scoped>\n",
       "    .dataframe tbody tr th:only-of-type {\n",
       "        vertical-align: middle;\n",
       "    }\n",
       "\n",
       "    .dataframe tbody tr th {\n",
       "        vertical-align: top;\n",
       "    }\n",
       "\n",
       "    .dataframe thead th {\n",
       "        text-align: right;\n",
       "    }\n",
       "</style>\n",
       "<table border=\"1\" class=\"dataframe\">\n",
       "  <thead>\n",
       "    <tr style=\"text-align: right;\">\n",
       "      <th></th>\n",
       "      <th>Order Date</th>\n",
       "      <th>Order ID</th>\n",
       "      <th>Website</th>\n",
       "      <th>Purchase Order Number</th>\n",
       "      <th>Shipment Date</th>\n",
       "      <th>Shipping Address State</th>\n",
       "      <th>Subtotal</th>\n",
       "      <th>Shipping Charge</th>\n",
       "      <th>Tax Before Promotions</th>\n",
       "      <th>Total Promotions</th>\n",
       "      <th>Tax Charged</th>\n",
       "      <th>Total Charged</th>\n",
       "    </tr>\n",
       "  </thead>\n",
       "  <tbody>\n",
       "    <tr>\n",
       "      <th>0</th>\n",
       "      <td>1/6/2020</td>\n",
       "      <td>112-0117099-7511406</td>\n",
       "      <td>Amazon.com</td>\n",
       "      <td>NaN</td>\n",
       "      <td>1/7/2020</td>\n",
       "      <td>MA</td>\n",
       "      <td>$481.00</td>\n",
       "      <td>$0.00</td>\n",
       "      <td>$30.06</td>\n",
       "      <td>$0.00</td>\n",
       "      <td>$30.06</td>\n",
       "      <td>$511.06</td>\n",
       "    </tr>\n",
       "    <tr>\n",
       "      <th>1</th>\n",
       "      <td>1/7/2020</td>\n",
       "      <td>114-6057375-7403423</td>\n",
       "      <td>Amazon.com</td>\n",
       "      <td>NaN</td>\n",
       "      <td>8/27/2019</td>\n",
       "      <td>DC</td>\n",
       "      <td>$26.52</td>\n",
       "      <td>$0.00</td>\n",
       "      <td>$1.59</td>\n",
       "      <td>$0.00</td>\n",
       "      <td>$1.59</td>\n",
       "      <td>$28.11</td>\n",
       "    </tr>\n",
       "    <tr>\n",
       "      <th>2</th>\n",
       "      <td>1/13/2020</td>\n",
       "      <td>114-8549890-7717034</td>\n",
       "      <td>Amazon.com</td>\n",
       "      <td>NaN</td>\n",
       "      <td>1/15/2020</td>\n",
       "      <td>DC</td>\n",
       "      <td>$34.20</td>\n",
       "      <td>$3.99</td>\n",
       "      <td>$2.29</td>\n",
       "      <td>$0.00</td>\n",
       "      <td>$2.29</td>\n",
       "      <td>$40.48</td>\n",
       "    </tr>\n",
       "    <tr>\n",
       "      <th>3</th>\n",
       "      <td>1/13/2020</td>\n",
       "      <td>114-0584976-7405034</td>\n",
       "      <td>Amazon.com</td>\n",
       "      <td>NaN</td>\n",
       "      <td>1/14/2020</td>\n",
       "      <td>DC</td>\n",
       "      <td>$57.15</td>\n",
       "      <td>$0.00</td>\n",
       "      <td>$3.43</td>\n",
       "      <td>$0.00</td>\n",
       "      <td>$3.43</td>\n",
       "      <td>$60.58</td>\n",
       "    </tr>\n",
       "    <tr>\n",
       "      <th>4</th>\n",
       "      <td>1/16/2020</td>\n",
       "      <td>114-8401554-6167469</td>\n",
       "      <td>Amazon.com</td>\n",
       "      <td>NaN</td>\n",
       "      <td>1/17/2020</td>\n",
       "      <td>MA</td>\n",
       "      <td>$49.62</td>\n",
       "      <td>$0.00</td>\n",
       "      <td>$3.10</td>\n",
       "      <td>$0.00</td>\n",
       "      <td>$3.10</td>\n",
       "      <td>$52.72</td>\n",
       "    </tr>\n",
       "  </tbody>\n",
       "</table>\n",
       "</div>"
      ],
      "text/plain": [
       "  Order Date             Order ID     Website  Purchase Order Number  \\\n",
       "0   1/6/2020  112-0117099-7511406  Amazon.com                    NaN   \n",
       "1   1/7/2020  114-6057375-7403423  Amazon.com                    NaN   \n",
       "2  1/13/2020  114-8549890-7717034  Amazon.com                    NaN   \n",
       "3  1/13/2020  114-0584976-7405034  Amazon.com                    NaN   \n",
       "4  1/16/2020  114-8401554-6167469  Amazon.com                    NaN   \n",
       "\n",
       "  Shipment Date Shipping Address State  Subtotal Shipping Charge  \\\n",
       "0      1/7/2020                     MA  $481.00           $0.00    \n",
       "1     8/27/2019                     DC   $26.52           $0.00    \n",
       "2     1/15/2020                     DC   $34.20           $3.99    \n",
       "3     1/14/2020                     DC   $57.15           $0.00    \n",
       "4     1/17/2020                     MA   $49.62           $0.00    \n",
       "\n",
       "  Tax Before Promotions Total Promotions Tax Charged Total Charged  \n",
       "0               $30.06            $0.00      $30.06       $511.06   \n",
       "1                $1.59            $0.00       $1.59        $28.11   \n",
       "2                $2.29            $0.00       $2.29        $40.48   \n",
       "3                $3.43            $0.00       $3.43        $60.58   \n",
       "4                $3.10            $0.00       $3.10        $52.72   "
      ]
     },
     "execution_count": 161,
     "metadata": {},
     "output_type": "execute_result"
    }
   ],
   "source": [
    "#remove shipping address zip column\n",
    "df.pop('Shipping Address Zip')\n",
    "df.head()"
   ]
  },
  {
   "cell_type": "code",
   "execution_count": 162,
   "metadata": {},
   "outputs": [
    {
     "data": {
      "text/html": [
       "<div>\n",
       "<style scoped>\n",
       "    .dataframe tbody tr th:only-of-type {\n",
       "        vertical-align: middle;\n",
       "    }\n",
       "\n",
       "    .dataframe tbody tr th {\n",
       "        vertical-align: top;\n",
       "    }\n",
       "\n",
       "    .dataframe thead th {\n",
       "        text-align: right;\n",
       "    }\n",
       "</style>\n",
       "<table border=\"1\" class=\"dataframe\">\n",
       "  <thead>\n",
       "    <tr style=\"text-align: right;\">\n",
       "      <th></th>\n",
       "      <th>Order Date</th>\n",
       "      <th>Website</th>\n",
       "      <th>Purchase Order Number</th>\n",
       "      <th>Shipment Date</th>\n",
       "      <th>Shipping Address State</th>\n",
       "      <th>Subtotal</th>\n",
       "      <th>Shipping Charge</th>\n",
       "      <th>Tax Before Promotions</th>\n",
       "      <th>Total Promotions</th>\n",
       "      <th>Tax Charged</th>\n",
       "      <th>Total Charged</th>\n",
       "    </tr>\n",
       "  </thead>\n",
       "  <tbody>\n",
       "    <tr>\n",
       "      <th>0</th>\n",
       "      <td>1/6/2020</td>\n",
       "      <td>Amazon.com</td>\n",
       "      <td>NaN</td>\n",
       "      <td>1/7/2020</td>\n",
       "      <td>MA</td>\n",
       "      <td>$481.00</td>\n",
       "      <td>$0.00</td>\n",
       "      <td>$30.06</td>\n",
       "      <td>$0.00</td>\n",
       "      <td>$30.06</td>\n",
       "      <td>$511.06</td>\n",
       "    </tr>\n",
       "    <tr>\n",
       "      <th>1</th>\n",
       "      <td>1/7/2020</td>\n",
       "      <td>Amazon.com</td>\n",
       "      <td>NaN</td>\n",
       "      <td>8/27/2019</td>\n",
       "      <td>DC</td>\n",
       "      <td>$26.52</td>\n",
       "      <td>$0.00</td>\n",
       "      <td>$1.59</td>\n",
       "      <td>$0.00</td>\n",
       "      <td>$1.59</td>\n",
       "      <td>$28.11</td>\n",
       "    </tr>\n",
       "    <tr>\n",
       "      <th>2</th>\n",
       "      <td>1/13/2020</td>\n",
       "      <td>Amazon.com</td>\n",
       "      <td>NaN</td>\n",
       "      <td>1/15/2020</td>\n",
       "      <td>DC</td>\n",
       "      <td>$34.20</td>\n",
       "      <td>$3.99</td>\n",
       "      <td>$2.29</td>\n",
       "      <td>$0.00</td>\n",
       "      <td>$2.29</td>\n",
       "      <td>$40.48</td>\n",
       "    </tr>\n",
       "    <tr>\n",
       "      <th>3</th>\n",
       "      <td>1/13/2020</td>\n",
       "      <td>Amazon.com</td>\n",
       "      <td>NaN</td>\n",
       "      <td>1/14/2020</td>\n",
       "      <td>DC</td>\n",
       "      <td>$57.15</td>\n",
       "      <td>$0.00</td>\n",
       "      <td>$3.43</td>\n",
       "      <td>$0.00</td>\n",
       "      <td>$3.43</td>\n",
       "      <td>$60.58</td>\n",
       "    </tr>\n",
       "    <tr>\n",
       "      <th>4</th>\n",
       "      <td>1/16/2020</td>\n",
       "      <td>Amazon.com</td>\n",
       "      <td>NaN</td>\n",
       "      <td>1/17/2020</td>\n",
       "      <td>MA</td>\n",
       "      <td>$49.62</td>\n",
       "      <td>$0.00</td>\n",
       "      <td>$3.10</td>\n",
       "      <td>$0.00</td>\n",
       "      <td>$3.10</td>\n",
       "      <td>$52.72</td>\n",
       "    </tr>\n",
       "  </tbody>\n",
       "</table>\n",
       "</div>"
      ],
      "text/plain": [
       "  Order Date     Website  Purchase Order Number Shipment Date  \\\n",
       "0   1/6/2020  Amazon.com                    NaN      1/7/2020   \n",
       "1   1/7/2020  Amazon.com                    NaN     8/27/2019   \n",
       "2  1/13/2020  Amazon.com                    NaN     1/15/2020   \n",
       "3  1/13/2020  Amazon.com                    NaN     1/14/2020   \n",
       "4  1/16/2020  Amazon.com                    NaN     1/17/2020   \n",
       "\n",
       "  Shipping Address State  Subtotal Shipping Charge Tax Before Promotions  \\\n",
       "0                     MA  $481.00           $0.00                $30.06    \n",
       "1                     DC   $26.52           $0.00                 $1.59    \n",
       "2                     DC   $34.20           $3.99                 $2.29    \n",
       "3                     DC   $57.15           $0.00                 $3.43    \n",
       "4                     MA   $49.62           $0.00                 $3.10    \n",
       "\n",
       "  Total Promotions Tax Charged Total Charged  \n",
       "0           $0.00      $30.06       $511.06   \n",
       "1           $0.00       $1.59        $28.11   \n",
       "2           $0.00       $2.29        $40.48   \n",
       "3           $0.00       $3.43        $60.58   \n",
       "4           $0.00       $3.10        $52.72   "
      ]
     },
     "execution_count": 162,
     "metadata": {},
     "output_type": "execute_result"
    }
   ],
   "source": [
    "#remove Order ID column\n",
    "df.pop('Order ID')\n",
    "df.head()"
   ]
  },
  {
   "cell_type": "code",
   "execution_count": 163,
   "metadata": {},
   "outputs": [
    {
     "data": {
      "text/plain": [
       "(85, 11)"
      ]
     },
     "execution_count": 163,
     "metadata": {},
     "output_type": "execute_result"
    }
   ],
   "source": [
    "df.shape"
   ]
  },
  {
   "cell_type": "code",
   "execution_count": 164,
   "metadata": {},
   "outputs": [
    {
     "data": {
      "text/html": [
       "<div>\n",
       "<style scoped>\n",
       "    .dataframe tbody tr th:only-of-type {\n",
       "        vertical-align: middle;\n",
       "    }\n",
       "\n",
       "    .dataframe tbody tr th {\n",
       "        vertical-align: top;\n",
       "    }\n",
       "\n",
       "    .dataframe thead th {\n",
       "        text-align: right;\n",
       "    }\n",
       "</style>\n",
       "<table border=\"1\" class=\"dataframe\">\n",
       "  <thead>\n",
       "    <tr style=\"text-align: right;\">\n",
       "      <th></th>\n",
       "      <th>Order Date</th>\n",
       "      <th>Website</th>\n",
       "      <th>Purchase Order Number</th>\n",
       "      <th>Shipment Date</th>\n",
       "      <th>Shipping Address State</th>\n",
       "      <th>Subtotal</th>\n",
       "      <th>Shipping Charge</th>\n",
       "      <th>Tax Before Promotions</th>\n",
       "      <th>Total Promotions</th>\n",
       "      <th>Tax Charged</th>\n",
       "      <th>Total Charged</th>\n",
       "    </tr>\n",
       "  </thead>\n",
       "  <tbody>\n",
       "    <tr>\n",
       "      <th>0</th>\n",
       "      <td>1/6/2020</td>\n",
       "      <td>Amazon.com</td>\n",
       "      <td>0.0</td>\n",
       "      <td>1/7/2020</td>\n",
       "      <td>MA</td>\n",
       "      <td>$481.00</td>\n",
       "      <td>$0.00</td>\n",
       "      <td>$30.06</td>\n",
       "      <td>$0.00</td>\n",
       "      <td>$30.06</td>\n",
       "      <td>$511.06</td>\n",
       "    </tr>\n",
       "    <tr>\n",
       "      <th>1</th>\n",
       "      <td>1/7/2020</td>\n",
       "      <td>Amazon.com</td>\n",
       "      <td>0.0</td>\n",
       "      <td>8/27/2019</td>\n",
       "      <td>DC</td>\n",
       "      <td>$26.52</td>\n",
       "      <td>$0.00</td>\n",
       "      <td>$1.59</td>\n",
       "      <td>$0.00</td>\n",
       "      <td>$1.59</td>\n",
       "      <td>$28.11</td>\n",
       "    </tr>\n",
       "    <tr>\n",
       "      <th>2</th>\n",
       "      <td>1/13/2020</td>\n",
       "      <td>Amazon.com</td>\n",
       "      <td>0.0</td>\n",
       "      <td>1/15/2020</td>\n",
       "      <td>DC</td>\n",
       "      <td>$34.20</td>\n",
       "      <td>$3.99</td>\n",
       "      <td>$2.29</td>\n",
       "      <td>$0.00</td>\n",
       "      <td>$2.29</td>\n",
       "      <td>$40.48</td>\n",
       "    </tr>\n",
       "    <tr>\n",
       "      <th>3</th>\n",
       "      <td>1/13/2020</td>\n",
       "      <td>Amazon.com</td>\n",
       "      <td>0.0</td>\n",
       "      <td>1/14/2020</td>\n",
       "      <td>DC</td>\n",
       "      <td>$57.15</td>\n",
       "      <td>$0.00</td>\n",
       "      <td>$3.43</td>\n",
       "      <td>$0.00</td>\n",
       "      <td>$3.43</td>\n",
       "      <td>$60.58</td>\n",
       "    </tr>\n",
       "    <tr>\n",
       "      <th>4</th>\n",
       "      <td>1/16/2020</td>\n",
       "      <td>Amazon.com</td>\n",
       "      <td>0.0</td>\n",
       "      <td>1/17/2020</td>\n",
       "      <td>MA</td>\n",
       "      <td>$49.62</td>\n",
       "      <td>$0.00</td>\n",
       "      <td>$3.10</td>\n",
       "      <td>$0.00</td>\n",
       "      <td>$3.10</td>\n",
       "      <td>$52.72</td>\n",
       "    </tr>\n",
       "  </tbody>\n",
       "</table>\n",
       "</div>"
      ],
      "text/plain": [
       "  Order Date     Website  Purchase Order Number Shipment Date  \\\n",
       "0   1/6/2020  Amazon.com                    0.0      1/7/2020   \n",
       "1   1/7/2020  Amazon.com                    0.0     8/27/2019   \n",
       "2  1/13/2020  Amazon.com                    0.0     1/15/2020   \n",
       "3  1/13/2020  Amazon.com                    0.0     1/14/2020   \n",
       "4  1/16/2020  Amazon.com                    0.0     1/17/2020   \n",
       "\n",
       "  Shipping Address State  Subtotal Shipping Charge Tax Before Promotions  \\\n",
       "0                     MA  $481.00           $0.00                $30.06    \n",
       "1                     DC   $26.52           $0.00                 $1.59    \n",
       "2                     DC   $34.20           $3.99                 $2.29    \n",
       "3                     DC   $57.15           $0.00                 $3.43    \n",
       "4                     MA   $49.62           $0.00                 $3.10    \n",
       "\n",
       "  Total Promotions Tax Charged Total Charged  \n",
       "0           $0.00      $30.06       $511.06   \n",
       "1           $0.00       $1.59        $28.11   \n",
       "2           $0.00       $2.29        $40.48   \n",
       "3           $0.00       $3.43        $60.58   \n",
       "4           $0.00       $3.10        $52.72   "
      ]
     },
     "execution_count": 164,
     "metadata": {},
     "output_type": "execute_result"
    }
   ],
   "source": [
    "#fill NaN columns\n",
    "df=df.fillna(0)\n",
    "df.head()"
   ]
  },
  {
   "cell_type": "code",
   "execution_count": 165,
   "metadata": {},
   "outputs": [
    {
     "data": {
      "text/html": [
       "<div>\n",
       "<style scoped>\n",
       "    .dataframe tbody tr th:only-of-type {\n",
       "        vertical-align: middle;\n",
       "    }\n",
       "\n",
       "    .dataframe tbody tr th {\n",
       "        vertical-align: top;\n",
       "    }\n",
       "\n",
       "    .dataframe thead th {\n",
       "        text-align: right;\n",
       "    }\n",
       "</style>\n",
       "<table border=\"1\" class=\"dataframe\">\n",
       "  <thead>\n",
       "    <tr style=\"text-align: right;\">\n",
       "      <th></th>\n",
       "      <th>Order Date</th>\n",
       "      <th>Website</th>\n",
       "      <th>Purchase Order Number</th>\n",
       "      <th>Shipment Date</th>\n",
       "      <th>Shipping Address State</th>\n",
       "      <th>Subtotal</th>\n",
       "      <th>Shipping Charge</th>\n",
       "      <th>Tax Before Promotions</th>\n",
       "      <th>Total Promotions</th>\n",
       "      <th>Tax Charged</th>\n",
       "      <th>Total Charged</th>\n",
       "    </tr>\n",
       "  </thead>\n",
       "  <tbody>\n",
       "    <tr>\n",
       "      <th>0</th>\n",
       "      <td>1/6/2020</td>\n",
       "      <td>Amazon.com</td>\n",
       "      <td>0.0</td>\n",
       "      <td>1/7/2020</td>\n",
       "      <td>MA</td>\n",
       "      <td>$481.00</td>\n",
       "      <td>$0.00</td>\n",
       "      <td>$30.06</td>\n",
       "      <td>$0.00</td>\n",
       "      <td>$30.06</td>\n",
       "      <td>511.06</td>\n",
       "    </tr>\n",
       "    <tr>\n",
       "      <th>1</th>\n",
       "      <td>1/7/2020</td>\n",
       "      <td>Amazon.com</td>\n",
       "      <td>0.0</td>\n",
       "      <td>8/27/2019</td>\n",
       "      <td>DC</td>\n",
       "      <td>$26.52</td>\n",
       "      <td>$0.00</td>\n",
       "      <td>$1.59</td>\n",
       "      <td>$0.00</td>\n",
       "      <td>$1.59</td>\n",
       "      <td>28.11</td>\n",
       "    </tr>\n",
       "    <tr>\n",
       "      <th>2</th>\n",
       "      <td>1/13/2020</td>\n",
       "      <td>Amazon.com</td>\n",
       "      <td>0.0</td>\n",
       "      <td>1/15/2020</td>\n",
       "      <td>DC</td>\n",
       "      <td>$34.20</td>\n",
       "      <td>$3.99</td>\n",
       "      <td>$2.29</td>\n",
       "      <td>$0.00</td>\n",
       "      <td>$2.29</td>\n",
       "      <td>40.48</td>\n",
       "    </tr>\n",
       "    <tr>\n",
       "      <th>3</th>\n",
       "      <td>1/13/2020</td>\n",
       "      <td>Amazon.com</td>\n",
       "      <td>0.0</td>\n",
       "      <td>1/14/2020</td>\n",
       "      <td>DC</td>\n",
       "      <td>$57.15</td>\n",
       "      <td>$0.00</td>\n",
       "      <td>$3.43</td>\n",
       "      <td>$0.00</td>\n",
       "      <td>$3.43</td>\n",
       "      <td>60.58</td>\n",
       "    </tr>\n",
       "    <tr>\n",
       "      <th>4</th>\n",
       "      <td>1/16/2020</td>\n",
       "      <td>Amazon.com</td>\n",
       "      <td>0.0</td>\n",
       "      <td>1/17/2020</td>\n",
       "      <td>MA</td>\n",
       "      <td>$49.62</td>\n",
       "      <td>$0.00</td>\n",
       "      <td>$3.10</td>\n",
       "      <td>$0.00</td>\n",
       "      <td>$3.10</td>\n",
       "      <td>52.72</td>\n",
       "    </tr>\n",
       "  </tbody>\n",
       "</table>\n",
       "</div>"
      ],
      "text/plain": [
       "  Order Date     Website  Purchase Order Number Shipment Date  \\\n",
       "0   1/6/2020  Amazon.com                    0.0      1/7/2020   \n",
       "1   1/7/2020  Amazon.com                    0.0     8/27/2019   \n",
       "2  1/13/2020  Amazon.com                    0.0     1/15/2020   \n",
       "3  1/13/2020  Amazon.com                    0.0     1/14/2020   \n",
       "4  1/16/2020  Amazon.com                    0.0     1/17/2020   \n",
       "\n",
       "  Shipping Address State  Subtotal Shipping Charge Tax Before Promotions  \\\n",
       "0                     MA  $481.00           $0.00                $30.06    \n",
       "1                     DC   $26.52           $0.00                 $1.59    \n",
       "2                     DC   $34.20           $3.99                 $2.29    \n",
       "3                     DC   $57.15           $0.00                 $3.43    \n",
       "4                     MA   $49.62           $0.00                 $3.10    \n",
       "\n",
       "  Total Promotions Tax Charged  Total Charged  \n",
       "0           $0.00      $30.06          511.06  \n",
       "1           $0.00       $1.59           28.11  \n",
       "2           $0.00       $2.29           40.48  \n",
       "3           $0.00       $3.43           60.58  \n",
       "4           $0.00       $3.10           52.72  "
      ]
     },
     "execution_count": 165,
     "metadata": {},
     "output_type": "execute_result"
    }
   ],
   "source": [
    "#change total charged to float input\n",
    "\n",
    "df[\"Total Charged\"] = df[\"Total Charged\"].str.replace('$','').astype(float)\n",
    "df.head()"
   ]
  },
  {
   "cell_type": "code",
   "execution_count": 166,
   "metadata": {},
   "outputs": [
    {
     "name": "stdout",
     "output_type": "stream",
     "text": [
      "4971.63\n"
     ]
    }
   ],
   "source": [
    "#sum of total charged\n",
    "#define df total charge sum as b\n",
    "\n",
    "b = df['Total Charged'].sum()\n",
    "print(b)"
   ]
  },
  {
   "cell_type": "code",
   "execution_count": 167,
   "metadata": {},
   "outputs": [
    {
     "data": {
      "text/plain": [
       "58.489764705882344"
      ]
     },
     "execution_count": 167,
     "metadata": {},
     "output_type": "execute_result"
    }
   ],
   "source": [
    "df['Total Charged'].mean()"
   ]
  },
  {
   "cell_type": "code",
   "execution_count": 168,
   "metadata": {},
   "outputs": [
    {
     "data": {
      "text/plain": [
       "511.06"
      ]
     },
     "execution_count": 168,
     "metadata": {},
     "output_type": "execute_result"
    }
   ],
   "source": [
    "df['Total Charged'].max()"
   ]
  },
  {
   "cell_type": "code",
   "execution_count": 169,
   "metadata": {},
   "outputs": [
    {
     "data": {
      "text/plain": [
       "0.0"
      ]
     },
     "execution_count": 169,
     "metadata": {},
     "output_type": "execute_result"
    }
   ],
   "source": [
    "df['Total Charged'].min()"
   ]
  },
  {
   "cell_type": "code",
   "execution_count": 171,
   "metadata": {},
   "outputs": [
    {
     "data": {
      "text/html": [
       "<div>\n",
       "<style scoped>\n",
       "    .dataframe tbody tr th:only-of-type {\n",
       "        vertical-align: middle;\n",
       "    }\n",
       "\n",
       "    .dataframe tbody tr th {\n",
       "        vertical-align: top;\n",
       "    }\n",
       "\n",
       "    .dataframe thead th {\n",
       "        text-align: right;\n",
       "    }\n",
       "</style>\n",
       "<table border=\"1\" class=\"dataframe\">\n",
       "  <thead>\n",
       "    <tr style=\"text-align: right;\">\n",
       "      <th></th>\n",
       "      <th>Order Date</th>\n",
       "      <th>Website</th>\n",
       "      <th>Purchase Order Number</th>\n",
       "      <th>Shipment Date</th>\n",
       "      <th>Shipping Address State</th>\n",
       "      <th>Subtotal</th>\n",
       "      <th>Shipping Charge</th>\n",
       "      <th>Tax Before Promotions</th>\n",
       "      <th>Total Promotions</th>\n",
       "      <th>Tax Charged</th>\n",
       "      <th>Total Charged</th>\n",
       "    </tr>\n",
       "  </thead>\n",
       "  <tbody>\n",
       "    <tr>\n",
       "      <th>0</th>\n",
       "      <td>2020-01-06</td>\n",
       "      <td>Amazon.com</td>\n",
       "      <td>0.0</td>\n",
       "      <td>1/7/2020</td>\n",
       "      <td>MA</td>\n",
       "      <td>$481.00</td>\n",
       "      <td>$0.00</td>\n",
       "      <td>$30.06</td>\n",
       "      <td>$0.00</td>\n",
       "      <td>$30.06</td>\n",
       "      <td>511.06</td>\n",
       "    </tr>\n",
       "    <tr>\n",
       "      <th>1</th>\n",
       "      <td>2020-01-07</td>\n",
       "      <td>Amazon.com</td>\n",
       "      <td>0.0</td>\n",
       "      <td>8/27/2019</td>\n",
       "      <td>DC</td>\n",
       "      <td>$26.52</td>\n",
       "      <td>$0.00</td>\n",
       "      <td>$1.59</td>\n",
       "      <td>$0.00</td>\n",
       "      <td>$1.59</td>\n",
       "      <td>28.11</td>\n",
       "    </tr>\n",
       "    <tr>\n",
       "      <th>2</th>\n",
       "      <td>2020-01-13</td>\n",
       "      <td>Amazon.com</td>\n",
       "      <td>0.0</td>\n",
       "      <td>1/15/2020</td>\n",
       "      <td>DC</td>\n",
       "      <td>$34.20</td>\n",
       "      <td>$3.99</td>\n",
       "      <td>$2.29</td>\n",
       "      <td>$0.00</td>\n",
       "      <td>$2.29</td>\n",
       "      <td>40.48</td>\n",
       "    </tr>\n",
       "    <tr>\n",
       "      <th>3</th>\n",
       "      <td>2020-01-13</td>\n",
       "      <td>Amazon.com</td>\n",
       "      <td>0.0</td>\n",
       "      <td>1/14/2020</td>\n",
       "      <td>DC</td>\n",
       "      <td>$57.15</td>\n",
       "      <td>$0.00</td>\n",
       "      <td>$3.43</td>\n",
       "      <td>$0.00</td>\n",
       "      <td>$3.43</td>\n",
       "      <td>60.58</td>\n",
       "    </tr>\n",
       "    <tr>\n",
       "      <th>4</th>\n",
       "      <td>2020-01-16</td>\n",
       "      <td>Amazon.com</td>\n",
       "      <td>0.0</td>\n",
       "      <td>1/17/2020</td>\n",
       "      <td>MA</td>\n",
       "      <td>$49.62</td>\n",
       "      <td>$0.00</td>\n",
       "      <td>$3.10</td>\n",
       "      <td>$0.00</td>\n",
       "      <td>$3.10</td>\n",
       "      <td>52.72</td>\n",
       "    </tr>\n",
       "  </tbody>\n",
       "</table>\n",
       "</div>"
      ],
      "text/plain": [
       "  Order Date     Website  Purchase Order Number Shipment Date  \\\n",
       "0 2020-01-06  Amazon.com                    0.0      1/7/2020   \n",
       "1 2020-01-07  Amazon.com                    0.0     8/27/2019   \n",
       "2 2020-01-13  Amazon.com                    0.0     1/15/2020   \n",
       "3 2020-01-13  Amazon.com                    0.0     1/14/2020   \n",
       "4 2020-01-16  Amazon.com                    0.0     1/17/2020   \n",
       "\n",
       "  Shipping Address State  Subtotal Shipping Charge Tax Before Promotions  \\\n",
       "0                     MA  $481.00           $0.00                $30.06    \n",
       "1                     DC   $26.52           $0.00                 $1.59    \n",
       "2                     DC   $34.20           $3.99                 $2.29    \n",
       "3                     DC   $57.15           $0.00                 $3.43    \n",
       "4                     MA   $49.62           $0.00                 $3.10    \n",
       "\n",
       "  Total Promotions Tax Charged  Total Charged  \n",
       "0           $0.00      $30.06          511.06  \n",
       "1           $0.00       $1.59           28.11  \n",
       "2           $0.00       $2.29           40.48  \n",
       "3           $0.00       $3.43           60.58  \n",
       "4           $0.00       $3.10           52.72  "
      ]
     },
     "execution_count": 171,
     "metadata": {},
     "output_type": "execute_result"
    }
   ],
   "source": [
    "#change order date to datetime\n",
    "\n",
    "df['Order Date'] = pd.to_datetime(df['Order Date'])\n",
    "df.head()"
   ]
  },
  {
   "cell_type": "code",
   "execution_count": 172,
   "metadata": {},
   "outputs": [
    {
     "data": {
      "text/plain": [
       "<AxesSubplot:xlabel='Order Date'>"
      ]
     },
     "execution_count": 172,
     "metadata": {},
     "output_type": "execute_result"
    },
    {
     "data": {
      "image/png": "[encoded data removed]",
      "text/plain": [
       "<Figure size 1800x1080 with 1 Axes>"
      ]
     },
     "metadata": {
      "needs_background": "light"
     },
     "output_type": "display_data"
    }
   ],
   "source": [
    "#plot of order date and total charge, for year 2020 \n",
    "df.plot.bar(x='Order Date', y='Total Charged', rot=90, figsize = (25,15))"
   ]
  },
  {
   "cell_type": "code",
   "execution_count": 129,
   "metadata": {},
   "outputs": [
    {
     "data": {
      "text/plain": [
       "Order Date\n",
       "2020-01-06    511.06\n",
       "2020-01-07     28.11\n",
       "2020-01-13    101.06\n",
       "2020-01-16     67.52\n",
       "2020-01-18     16.99\n",
       "Name: Total Charged, dtype: float64"
      ]
     },
     "execution_count": 129,
     "metadata": {},
     "output_type": "execute_result"
    }
   ],
   "source": [
    "#gorup charges by date\n",
    "grouped_orders = df.groupby('Order Date').sum()[\"Total Charged\"]\n",
    "grouped_orders.head()"
   ]
  },
  {
   "cell_type": "code",
   "execution_count": 173,
   "metadata": {},
   "outputs": [
    {
     "data": {
      "text/plain": [
       "<AxesSubplot:title={'center':'Amazon Orders by Date, 2019'}, xlabel='Order Date'>"
      ]
     },
     "execution_count": 173,
     "metadata": {},
     "output_type": "execute_result"
    },
    {
     "data": {
      "image/png": "[encoded data removed]",
      "text/plain": [
       "<Figure size 1800x1080 with 1 Axes>"
      ]
     },
     "metadata": {
      "needs_background": "light"
     },
     "output_type": "display_data"
    }
   ],
   "source": [
    "#plot of grouped charges and total charge \n",
    "grouped_orders.plot.bar(figsize=(25,15), title= \"Amazon Orders by Date, 2019\")"
   ]
  },
  {
   "cell_type": "code",
   "execution_count": 174,
   "metadata": {},
   "outputs": [
    {
     "data": {
      "text/plain": [
       "1129.49"
      ]
     },
     "execution_count": 174,
     "metadata": {},
     "output_type": "execute_result"
    }
   ],
   "source": [
    "grouped_orders.max()"
   ]
  },
  {
   "cell_type": "code",
   "execution_count": 175,
   "metadata": {},
   "outputs": [
    {
     "data": {
      "text/plain": [
       "0.0"
      ]
     },
     "execution_count": 175,
     "metadata": {},
     "output_type": "execute_result"
    }
   ],
   "source": [
    "grouped_orders.min()"
   ]
  },
  {
   "cell_type": "code",
   "execution_count": 176,
   "metadata": {},
   "outputs": [
    {
     "data": {
      "text/html": [
       "<div>\n",
       "<style scoped>\n",
       "    .dataframe tbody tr th:only-of-type {\n",
       "        vertical-align: middle;\n",
       "    }\n",
       "\n",
       "    .dataframe tbody tr th {\n",
       "        vertical-align: top;\n",
       "    }\n",
       "\n",
       "    .dataframe thead th {\n",
       "        text-align: right;\n",
       "    }\n",
       "</style>\n",
       "<table border=\"1\" class=\"dataframe\">\n",
       "  <thead>\n",
       "    <tr style=\"text-align: right;\">\n",
       "      <th></th>\n",
       "      <th>Order Date</th>\n",
       "      <th>Order ID</th>\n",
       "      <th>Website</th>\n",
       "      <th>Purchase Order Number</th>\n",
       "      <th>Shipment Date</th>\n",
       "      <th>Shipping Address State</th>\n",
       "      <th>Subtotal</th>\n",
       "      <th>Shipping Charge</th>\n",
       "      <th>Tax Before Promotions</th>\n",
       "      <th>Total Promotions</th>\n",
       "      <th>Tax Charged</th>\n",
       "      <th>Total Charged</th>\n",
       "    </tr>\n",
       "  </thead>\n",
       "  <tbody>\n",
       "    <tr>\n",
       "      <th>0</th>\n",
       "      <td>1/5/2019</td>\n",
       "      <td>114-8203162-9900207</td>\n",
       "      <td>Amazon.com</td>\n",
       "      <td>NaN</td>\n",
       "      <td>1/6/2019</td>\n",
       "      <td>DC</td>\n",
       "      <td>$58.58</td>\n",
       "      <td>$0.00</td>\n",
       "      <td>$3.51</td>\n",
       "      <td>$0.00</td>\n",
       "      <td>$3.51</td>\n",
       "      <td>$62.09</td>\n",
       "    </tr>\n",
       "    <tr>\n",
       "      <th>1</th>\n",
       "      <td>1/7/2019</td>\n",
       "      <td>111-3541202-6321862</td>\n",
       "      <td>Amazon.com</td>\n",
       "      <td>NaN</td>\n",
       "      <td>1/8/2019</td>\n",
       "      <td>FL</td>\n",
       "      <td>$14.86</td>\n",
       "      <td>$3.99</td>\n",
       "      <td>$0.00</td>\n",
       "      <td>$0.00</td>\n",
       "      <td>$0.00</td>\n",
       "      <td>$18.85</td>\n",
       "    </tr>\n",
       "    <tr>\n",
       "      <th>2</th>\n",
       "      <td>1/7/2019</td>\n",
       "      <td>111-7375240-4529041</td>\n",
       "      <td>Amazon.com</td>\n",
       "      <td>NaN</td>\n",
       "      <td>1/7/2019</td>\n",
       "      <td>FL</td>\n",
       "      <td>$88.49</td>\n",
       "      <td>$0.00</td>\n",
       "      <td>$4.35</td>\n",
       "      <td>$1.00</td>\n",
       "      <td>$4.35</td>\n",
       "      <td>$91.84</td>\n",
       "    </tr>\n",
       "    <tr>\n",
       "      <th>3</th>\n",
       "      <td>1/9/2019</td>\n",
       "      <td>111-7408246-1560269</td>\n",
       "      <td>Amazon.com</td>\n",
       "      <td>NaN</td>\n",
       "      <td>1/10/2019</td>\n",
       "      <td>FL</td>\n",
       "      <td>$13.25</td>\n",
       "      <td>$0.00</td>\n",
       "      <td>$0.00</td>\n",
       "      <td>$0.00</td>\n",
       "      <td>$0.00</td>\n",
       "      <td>$13.25</td>\n",
       "    </tr>\n",
       "    <tr>\n",
       "      <th>4</th>\n",
       "      <td>1/15/2019</td>\n",
       "      <td>113-6199700-9993809</td>\n",
       "      <td>Amazon.com</td>\n",
       "      <td>NaN</td>\n",
       "      <td>1/16/2019</td>\n",
       "      <td>RI</td>\n",
       "      <td>$32.98</td>\n",
       "      <td>$0.00</td>\n",
       "      <td>$0.00</td>\n",
       "      <td>$0.00</td>\n",
       "      <td>$0.00</td>\n",
       "      <td>$36.97</td>\n",
       "    </tr>\n",
       "  </tbody>\n",
       "</table>\n",
       "</div>"
      ],
      "text/plain": [
       "  Order Date             Order ID     Website  Purchase Order Number  \\\n",
       "0   1/5/2019  114-8203162-9900207  Amazon.com                    NaN   \n",
       "1   1/7/2019  111-3541202-6321862  Amazon.com                    NaN   \n",
       "2   1/7/2019  111-7375240-4529041  Amazon.com                    NaN   \n",
       "3   1/9/2019  111-7408246-1560269  Amazon.com                    NaN   \n",
       "4  1/15/2019  113-6199700-9993809  Amazon.com                    NaN   \n",
       "\n",
       "  Shipment Date Shipping Address State Subtotal Shipping Charge  \\\n",
       "0      1/6/2019                     DC  $58.58           $0.00    \n",
       "1      1/8/2019                     FL  $14.86           $3.99    \n",
       "2      1/7/2019                     FL  $88.49           $0.00    \n",
       "3     1/10/2019                     FL  $13.25           $0.00    \n",
       "4     1/16/2019                     RI  $32.98           $0.00    \n",
       "\n",
       "  Tax Before Promotions Total Promotions Tax Charged Total Charged  \n",
       "0                $3.51            $0.00       $3.51        $62.09   \n",
       "1                $0.00            $0.00       $0.00        $18.85   \n",
       "2                $4.35            $1.00       $4.35        $91.84   \n",
       "3                $0.00            $0.00       $0.00        $13.25   \n",
       "4                $0.00            $0.00       $0.00        $36.97   "
      ]
     },
     "execution_count": 176,
     "metadata": {},
     "output_type": "execute_result"
    }
   ],
   "source": [
    "#upload/read csv file\n",
    "df2 = pd.read_csv('Amazon Orders 2019.csv')\n",
    "df2.head()"
   ]
  },
  {
   "cell_type": "code",
   "execution_count": 177,
   "metadata": {},
   "outputs": [
    {
     "data": {
      "text/html": [
       "<div>\n",
       "<style scoped>\n",
       "    .dataframe tbody tr th:only-of-type {\n",
       "        vertical-align: middle;\n",
       "    }\n",
       "\n",
       "    .dataframe tbody tr th {\n",
       "        vertical-align: top;\n",
       "    }\n",
       "\n",
       "    .dataframe thead th {\n",
       "        text-align: right;\n",
       "    }\n",
       "</style>\n",
       "<table border=\"1\" class=\"dataframe\">\n",
       "  <thead>\n",
       "    <tr style=\"text-align: right;\">\n",
       "      <th></th>\n",
       "      <th>Order Date</th>\n",
       "      <th>Website</th>\n",
       "      <th>Purchase Order Number</th>\n",
       "      <th>Shipment Date</th>\n",
       "      <th>Shipping Address State</th>\n",
       "      <th>Subtotal</th>\n",
       "      <th>Shipping Charge</th>\n",
       "      <th>Tax Before Promotions</th>\n",
       "      <th>Total Promotions</th>\n",
       "      <th>Tax Charged</th>\n",
       "      <th>Total Charged</th>\n",
       "    </tr>\n",
       "  </thead>\n",
       "  <tbody>\n",
       "    <tr>\n",
       "      <th>0</th>\n",
       "      <td>1/5/2019</td>\n",
       "      <td>Amazon.com</td>\n",
       "      <td>NaN</td>\n",
       "      <td>1/6/2019</td>\n",
       "      <td>DC</td>\n",
       "      <td>$58.58</td>\n",
       "      <td>$0.00</td>\n",
       "      <td>$3.51</td>\n",
       "      <td>$0.00</td>\n",
       "      <td>$3.51</td>\n",
       "      <td>$62.09</td>\n",
       "    </tr>\n",
       "    <tr>\n",
       "      <th>1</th>\n",
       "      <td>1/7/2019</td>\n",
       "      <td>Amazon.com</td>\n",
       "      <td>NaN</td>\n",
       "      <td>1/8/2019</td>\n",
       "      <td>FL</td>\n",
       "      <td>$14.86</td>\n",
       "      <td>$3.99</td>\n",
       "      <td>$0.00</td>\n",
       "      <td>$0.00</td>\n",
       "      <td>$0.00</td>\n",
       "      <td>$18.85</td>\n",
       "    </tr>\n",
       "    <tr>\n",
       "      <th>2</th>\n",
       "      <td>1/7/2019</td>\n",
       "      <td>Amazon.com</td>\n",
       "      <td>NaN</td>\n",
       "      <td>1/7/2019</td>\n",
       "      <td>FL</td>\n",
       "      <td>$88.49</td>\n",
       "      <td>$0.00</td>\n",
       "      <td>$4.35</td>\n",
       "      <td>$1.00</td>\n",
       "      <td>$4.35</td>\n",
       "      <td>$91.84</td>\n",
       "    </tr>\n",
       "    <tr>\n",
       "      <th>3</th>\n",
       "      <td>1/9/2019</td>\n",
       "      <td>Amazon.com</td>\n",
       "      <td>NaN</td>\n",
       "      <td>1/10/2019</td>\n",
       "      <td>FL</td>\n",
       "      <td>$13.25</td>\n",
       "      <td>$0.00</td>\n",
       "      <td>$0.00</td>\n",
       "      <td>$0.00</td>\n",
       "      <td>$0.00</td>\n",
       "      <td>$13.25</td>\n",
       "    </tr>\n",
       "    <tr>\n",
       "      <th>4</th>\n",
       "      <td>1/15/2019</td>\n",
       "      <td>Amazon.com</td>\n",
       "      <td>NaN</td>\n",
       "      <td>1/16/2019</td>\n",
       "      <td>RI</td>\n",
       "      <td>$32.98</td>\n",
       "      <td>$0.00</td>\n",
       "      <td>$0.00</td>\n",
       "      <td>$0.00</td>\n",
       "      <td>$0.00</td>\n",
       "      <td>$36.97</td>\n",
       "    </tr>\n",
       "  </tbody>\n",
       "</table>\n",
       "</div>"
      ],
      "text/plain": [
       "  Order Date     Website  Purchase Order Number Shipment Date  \\\n",
       "0   1/5/2019  Amazon.com                    NaN      1/6/2019   \n",
       "1   1/7/2019  Amazon.com                    NaN      1/8/2019   \n",
       "2   1/7/2019  Amazon.com                    NaN      1/7/2019   \n",
       "3   1/9/2019  Amazon.com                    NaN     1/10/2019   \n",
       "4  1/15/2019  Amazon.com                    NaN     1/16/2019   \n",
       "\n",
       "  Shipping Address State Subtotal Shipping Charge Tax Before Promotions  \\\n",
       "0                     DC  $58.58           $0.00                 $3.51    \n",
       "1                     FL  $14.86           $3.99                 $0.00    \n",
       "2                     FL  $88.49           $0.00                 $4.35    \n",
       "3                     FL  $13.25           $0.00                 $0.00    \n",
       "4                     RI  $32.98           $0.00                 $0.00    \n",
       "\n",
       "  Total Promotions Tax Charged Total Charged  \n",
       "0           $0.00       $3.51        $62.09   \n",
       "1           $0.00       $0.00        $18.85   \n",
       "2           $1.00       $4.35        $91.84   \n",
       "3           $0.00       $0.00        $13.25   \n",
       "4           $0.00       $0.00        $36.97   "
      ]
     },
     "execution_count": 177,
     "metadata": {},
     "output_type": "execute_result"
    }
   ],
   "source": [
    "#remove Order ID column\n",
    "df2.pop('Order ID')\n",
    "df2.head()"
   ]
  },
  {
   "cell_type": "code",
   "execution_count": 178,
   "metadata": {},
   "outputs": [
    {
     "data": {
      "text/html": [
       "<div>\n",
       "<style scoped>\n",
       "    .dataframe tbody tr th:only-of-type {\n",
       "        vertical-align: middle;\n",
       "    }\n",
       "\n",
       "    .dataframe tbody tr th {\n",
       "        vertical-align: top;\n",
       "    }\n",
       "\n",
       "    .dataframe thead th {\n",
       "        text-align: right;\n",
       "    }\n",
       "</style>\n",
       "<table border=\"1\" class=\"dataframe\">\n",
       "  <thead>\n",
       "    <tr style=\"text-align: right;\">\n",
       "      <th></th>\n",
       "      <th>Order Date</th>\n",
       "      <th>Website</th>\n",
       "      <th>Purchase Order Number</th>\n",
       "      <th>Shipment Date</th>\n",
       "      <th>Shipping Address State</th>\n",
       "      <th>Subtotal</th>\n",
       "      <th>Shipping Charge</th>\n",
       "      <th>Tax Before Promotions</th>\n",
       "      <th>Total Promotions</th>\n",
       "      <th>Tax Charged</th>\n",
       "      <th>Total Charged</th>\n",
       "    </tr>\n",
       "  </thead>\n",
       "  <tbody>\n",
       "    <tr>\n",
       "      <th>0</th>\n",
       "      <td>1/5/2019</td>\n",
       "      <td>Amazon.com</td>\n",
       "      <td>0.0</td>\n",
       "      <td>1/6/2019</td>\n",
       "      <td>DC</td>\n",
       "      <td>$58.58</td>\n",
       "      <td>$0.00</td>\n",
       "      <td>$3.51</td>\n",
       "      <td>$0.00</td>\n",
       "      <td>$3.51</td>\n",
       "      <td>$62.09</td>\n",
       "    </tr>\n",
       "    <tr>\n",
       "      <th>1</th>\n",
       "      <td>1/7/2019</td>\n",
       "      <td>Amazon.com</td>\n",
       "      <td>0.0</td>\n",
       "      <td>1/8/2019</td>\n",
       "      <td>FL</td>\n",
       "      <td>$14.86</td>\n",
       "      <td>$3.99</td>\n",
       "      <td>$0.00</td>\n",
       "      <td>$0.00</td>\n",
       "      <td>$0.00</td>\n",
       "      <td>$18.85</td>\n",
       "    </tr>\n",
       "    <tr>\n",
       "      <th>2</th>\n",
       "      <td>1/7/2019</td>\n",
       "      <td>Amazon.com</td>\n",
       "      <td>0.0</td>\n",
       "      <td>1/7/2019</td>\n",
       "      <td>FL</td>\n",
       "      <td>$88.49</td>\n",
       "      <td>$0.00</td>\n",
       "      <td>$4.35</td>\n",
       "      <td>$1.00</td>\n",
       "      <td>$4.35</td>\n",
       "      <td>$91.84</td>\n",
       "    </tr>\n",
       "    <tr>\n",
       "      <th>3</th>\n",
       "      <td>1/9/2019</td>\n",
       "      <td>Amazon.com</td>\n",
       "      <td>0.0</td>\n",
       "      <td>1/10/2019</td>\n",
       "      <td>FL</td>\n",
       "      <td>$13.25</td>\n",
       "      <td>$0.00</td>\n",
       "      <td>$0.00</td>\n",
       "      <td>$0.00</td>\n",
       "      <td>$0.00</td>\n",
       "      <td>$13.25</td>\n",
       "    </tr>\n",
       "    <tr>\n",
       "      <th>4</th>\n",
       "      <td>1/15/2019</td>\n",
       "      <td>Amazon.com</td>\n",
       "      <td>0.0</td>\n",
       "      <td>1/16/2019</td>\n",
       "      <td>RI</td>\n",
       "      <td>$32.98</td>\n",
       "      <td>$0.00</td>\n",
       "      <td>$0.00</td>\n",
       "      <td>$0.00</td>\n",
       "      <td>$0.00</td>\n",
       "      <td>$36.97</td>\n",
       "    </tr>\n",
       "  </tbody>\n",
       "</table>\n",
       "</div>"
      ],
      "text/plain": [
       "  Order Date     Website  Purchase Order Number Shipment Date  \\\n",
       "0   1/5/2019  Amazon.com                    0.0      1/6/2019   \n",
       "1   1/7/2019  Amazon.com                    0.0      1/8/2019   \n",
       "2   1/7/2019  Amazon.com                    0.0      1/7/2019   \n",
       "3   1/9/2019  Amazon.com                    0.0     1/10/2019   \n",
       "4  1/15/2019  Amazon.com                    0.0     1/16/2019   \n",
       "\n",
       "  Shipping Address State Subtotal Shipping Charge Tax Before Promotions  \\\n",
       "0                     DC  $58.58           $0.00                 $3.51    \n",
       "1                     FL  $14.86           $3.99                 $0.00    \n",
       "2                     FL  $88.49           $0.00                 $4.35    \n",
       "3                     FL  $13.25           $0.00                 $0.00    \n",
       "4                     RI  $32.98           $0.00                 $0.00    \n",
       "\n",
       "  Total Promotions Tax Charged Total Charged  \n",
       "0           $0.00       $3.51        $62.09   \n",
       "1           $0.00       $0.00        $18.85   \n",
       "2           $1.00       $4.35        $91.84   \n",
       "3           $0.00       $0.00        $13.25   \n",
       "4           $0.00       $0.00        $36.97   "
      ]
     },
     "execution_count": 178,
     "metadata": {},
     "output_type": "execute_result"
    }
   ],
   "source": [
    "#fill NaN colums\n",
    "df2=df2.fillna(0)\n",
    "df2.head()"
   ]
  },
  {
   "cell_type": "code",
   "execution_count": 179,
   "metadata": {},
   "outputs": [
    {
     "data": {
      "text/html": [
       "<div>\n",
       "<style scoped>\n",
       "    .dataframe tbody tr th:only-of-type {\n",
       "        vertical-align: middle;\n",
       "    }\n",
       "\n",
       "    .dataframe tbody tr th {\n",
       "        vertical-align: top;\n",
       "    }\n",
       "\n",
       "    .dataframe thead th {\n",
       "        text-align: right;\n",
       "    }\n",
       "</style>\n",
       "<table border=\"1\" class=\"dataframe\">\n",
       "  <thead>\n",
       "    <tr style=\"text-align: right;\">\n",
       "      <th></th>\n",
       "      <th>Order Date</th>\n",
       "      <th>Website</th>\n",
       "      <th>Purchase Order Number</th>\n",
       "      <th>Shipment Date</th>\n",
       "      <th>Shipping Address State</th>\n",
       "      <th>Subtotal</th>\n",
       "      <th>Shipping Charge</th>\n",
       "      <th>Tax Before Promotions</th>\n",
       "      <th>Total Promotions</th>\n",
       "      <th>Tax Charged</th>\n",
       "      <th>Total Charged</th>\n",
       "    </tr>\n",
       "  </thead>\n",
       "  <tbody>\n",
       "    <tr>\n",
       "      <th>0</th>\n",
       "      <td>1/5/2019</td>\n",
       "      <td>Amazon.com</td>\n",
       "      <td>0.0</td>\n",
       "      <td>1/6/2019</td>\n",
       "      <td>DC</td>\n",
       "      <td>$58.58</td>\n",
       "      <td>$0.00</td>\n",
       "      <td>$3.51</td>\n",
       "      <td>$0.00</td>\n",
       "      <td>$3.51</td>\n",
       "      <td>62.09</td>\n",
       "    </tr>\n",
       "    <tr>\n",
       "      <th>1</th>\n",
       "      <td>1/7/2019</td>\n",
       "      <td>Amazon.com</td>\n",
       "      <td>0.0</td>\n",
       "      <td>1/8/2019</td>\n",
       "      <td>FL</td>\n",
       "      <td>$14.86</td>\n",
       "      <td>$3.99</td>\n",
       "      <td>$0.00</td>\n",
       "      <td>$0.00</td>\n",
       "      <td>$0.00</td>\n",
       "      <td>18.85</td>\n",
       "    </tr>\n",
       "    <tr>\n",
       "      <th>2</th>\n",
       "      <td>1/7/2019</td>\n",
       "      <td>Amazon.com</td>\n",
       "      <td>0.0</td>\n",
       "      <td>1/7/2019</td>\n",
       "      <td>FL</td>\n",
       "      <td>$88.49</td>\n",
       "      <td>$0.00</td>\n",
       "      <td>$4.35</td>\n",
       "      <td>$1.00</td>\n",
       "      <td>$4.35</td>\n",
       "      <td>91.84</td>\n",
       "    </tr>\n",
       "    <tr>\n",
       "      <th>3</th>\n",
       "      <td>1/9/2019</td>\n",
       "      <td>Amazon.com</td>\n",
       "      <td>0.0</td>\n",
       "      <td>1/10/2019</td>\n",
       "      <td>FL</td>\n",
       "      <td>$13.25</td>\n",
       "      <td>$0.00</td>\n",
       "      <td>$0.00</td>\n",
       "      <td>$0.00</td>\n",
       "      <td>$0.00</td>\n",
       "      <td>13.25</td>\n",
       "    </tr>\n",
       "    <tr>\n",
       "      <th>4</th>\n",
       "      <td>1/15/2019</td>\n",
       "      <td>Amazon.com</td>\n",
       "      <td>0.0</td>\n",
       "      <td>1/16/2019</td>\n",
       "      <td>RI</td>\n",
       "      <td>$32.98</td>\n",
       "      <td>$0.00</td>\n",
       "      <td>$0.00</td>\n",
       "      <td>$0.00</td>\n",
       "      <td>$0.00</td>\n",
       "      <td>36.97</td>\n",
       "    </tr>\n",
       "  </tbody>\n",
       "</table>\n",
       "</div>"
      ],
      "text/plain": [
       "  Order Date     Website  Purchase Order Number Shipment Date  \\\n",
       "0   1/5/2019  Amazon.com                    0.0      1/6/2019   \n",
       "1   1/7/2019  Amazon.com                    0.0      1/8/2019   \n",
       "2   1/7/2019  Amazon.com                    0.0      1/7/2019   \n",
       "3   1/9/2019  Amazon.com                    0.0     1/10/2019   \n",
       "4  1/15/2019  Amazon.com                    0.0     1/16/2019   \n",
       "\n",
       "  Shipping Address State Subtotal Shipping Charge Tax Before Promotions  \\\n",
       "0                     DC  $58.58           $0.00                 $3.51    \n",
       "1                     FL  $14.86           $3.99                 $0.00    \n",
       "2                     FL  $88.49           $0.00                 $4.35    \n",
       "3                     FL  $13.25           $0.00                 $0.00    \n",
       "4                     RI  $32.98           $0.00                 $0.00    \n",
       "\n",
       "  Total Promotions Tax Charged  Total Charged  \n",
       "0           $0.00       $3.51           62.09  \n",
       "1           $0.00       $0.00           18.85  \n",
       "2           $1.00       $4.35           91.84  \n",
       "3           $0.00       $0.00           13.25  \n",
       "4           $0.00       $0.00           36.97  "
      ]
     },
     "execution_count": 179,
     "metadata": {},
     "output_type": "execute_result"
    }
   ],
   "source": [
    "#change total charged to float input\n",
    "df2[\"Total Charged\"] = df2[\"Total Charged\"].str.replace('$','').astype(float)\n",
    "df2.head()"
   ]
  },
  {
   "cell_type": "code",
   "execution_count": 180,
   "metadata": {},
   "outputs": [
    {
     "name": "stdout",
     "output_type": "stream",
     "text": [
      "2905.5699999999997\n"
     ]
    }
   ],
   "source": [
    "#sum of total charged\n",
    "#define df total charge sum as d\n",
    "d = df2[\"Total Charged\"].sum()\n",
    "print(d)"
   ]
  },
  {
   "cell_type": "code",
   "execution_count": 181,
   "metadata": {},
   "outputs": [
    {
     "data": {
      "text/plain": [
       "(59, 11)"
      ]
     },
     "execution_count": 181,
     "metadata": {},
     "output_type": "execute_result"
    }
   ],
   "source": [
    "df2.shape"
   ]
  },
  {
   "cell_type": "code",
   "execution_count": 182,
   "metadata": {},
   "outputs": [
    {
     "data": {
      "text/plain": [
       "4.58"
      ]
     },
     "execution_count": 182,
     "metadata": {},
     "output_type": "execute_result"
    }
   ],
   "source": [
    "df2[\"Total Charged\"].min()"
   ]
  },
  {
   "cell_type": "code",
   "execution_count": 183,
   "metadata": {},
   "outputs": [
    {
     "data": {
      "text/plain": [
       "378.24"
      ]
     },
     "execution_count": 183,
     "metadata": {},
     "output_type": "execute_result"
    }
   ],
   "source": [
    "df2[\"Total Charged\"].max()"
   ]
  },
  {
   "cell_type": "code",
   "execution_count": 184,
   "metadata": {},
   "outputs": [
    {
     "data": {
      "text/html": [
       "<div>\n",
       "<style scoped>\n",
       "    .dataframe tbody tr th:only-of-type {\n",
       "        vertical-align: middle;\n",
       "    }\n",
       "\n",
       "    .dataframe tbody tr th {\n",
       "        vertical-align: top;\n",
       "    }\n",
       "\n",
       "    .dataframe thead th {\n",
       "        text-align: right;\n",
       "    }\n",
       "</style>\n",
       "<table border=\"1\" class=\"dataframe\">\n",
       "  <thead>\n",
       "    <tr style=\"text-align: right;\">\n",
       "      <th></th>\n",
       "      <th>Order Date</th>\n",
       "      <th>Website</th>\n",
       "      <th>Purchase Order Number</th>\n",
       "      <th>Shipment Date</th>\n",
       "      <th>Shipping Address State</th>\n",
       "      <th>Subtotal</th>\n",
       "      <th>Shipping Charge</th>\n",
       "      <th>Tax Before Promotions</th>\n",
       "      <th>Total Promotions</th>\n",
       "      <th>Tax Charged</th>\n",
       "      <th>Total Charged</th>\n",
       "    </tr>\n",
       "  </thead>\n",
       "  <tbody>\n",
       "    <tr>\n",
       "      <th>0</th>\n",
       "      <td>2019-01-05</td>\n",
       "      <td>Amazon.com</td>\n",
       "      <td>0.0</td>\n",
       "      <td>1/6/2019</td>\n",
       "      <td>DC</td>\n",
       "      <td>$58.58</td>\n",
       "      <td>$0.00</td>\n",
       "      <td>$3.51</td>\n",
       "      <td>$0.00</td>\n",
       "      <td>$3.51</td>\n",
       "      <td>62.09</td>\n",
       "    </tr>\n",
       "    <tr>\n",
       "      <th>1</th>\n",
       "      <td>2019-01-07</td>\n",
       "      <td>Amazon.com</td>\n",
       "      <td>0.0</td>\n",
       "      <td>1/8/2019</td>\n",
       "      <td>FL</td>\n",
       "      <td>$14.86</td>\n",
       "      <td>$3.99</td>\n",
       "      <td>$0.00</td>\n",
       "      <td>$0.00</td>\n",
       "      <td>$0.00</td>\n",
       "      <td>18.85</td>\n",
       "    </tr>\n",
       "    <tr>\n",
       "      <th>2</th>\n",
       "      <td>2019-01-07</td>\n",
       "      <td>Amazon.com</td>\n",
       "      <td>0.0</td>\n",
       "      <td>1/7/2019</td>\n",
       "      <td>FL</td>\n",
       "      <td>$88.49</td>\n",
       "      <td>$0.00</td>\n",
       "      <td>$4.35</td>\n",
       "      <td>$1.00</td>\n",
       "      <td>$4.35</td>\n",
       "      <td>91.84</td>\n",
       "    </tr>\n",
       "    <tr>\n",
       "      <th>3</th>\n",
       "      <td>2019-01-09</td>\n",
       "      <td>Amazon.com</td>\n",
       "      <td>0.0</td>\n",
       "      <td>1/10/2019</td>\n",
       "      <td>FL</td>\n",
       "      <td>$13.25</td>\n",
       "      <td>$0.00</td>\n",
       "      <td>$0.00</td>\n",
       "      <td>$0.00</td>\n",
       "      <td>$0.00</td>\n",
       "      <td>13.25</td>\n",
       "    </tr>\n",
       "    <tr>\n",
       "      <th>4</th>\n",
       "      <td>2019-01-15</td>\n",
       "      <td>Amazon.com</td>\n",
       "      <td>0.0</td>\n",
       "      <td>1/16/2019</td>\n",
       "      <td>RI</td>\n",
       "      <td>$32.98</td>\n",
       "      <td>$0.00</td>\n",
       "      <td>$0.00</td>\n",
       "      <td>$0.00</td>\n",
       "      <td>$0.00</td>\n",
       "      <td>36.97</td>\n",
       "    </tr>\n",
       "  </tbody>\n",
       "</table>\n",
       "</div>"
      ],
      "text/plain": [
       "  Order Date     Website  Purchase Order Number Shipment Date  \\\n",
       "0 2019-01-05  Amazon.com                    0.0      1/6/2019   \n",
       "1 2019-01-07  Amazon.com                    0.0      1/8/2019   \n",
       "2 2019-01-07  Amazon.com                    0.0      1/7/2019   \n",
       "3 2019-01-09  Amazon.com                    0.0     1/10/2019   \n",
       "4 2019-01-15  Amazon.com                    0.0     1/16/2019   \n",
       "\n",
       "  Shipping Address State Subtotal Shipping Charge Tax Before Promotions  \\\n",
       "0                     DC  $58.58           $0.00                 $3.51    \n",
       "1                     FL  $14.86           $3.99                 $0.00    \n",
       "2                     FL  $88.49           $0.00                 $4.35    \n",
       "3                     FL  $13.25           $0.00                 $0.00    \n",
       "4                     RI  $32.98           $0.00                 $0.00    \n",
       "\n",
       "  Total Promotions Tax Charged  Total Charged  \n",
       "0           $0.00       $3.51           62.09  \n",
       "1           $0.00       $0.00           18.85  \n",
       "2           $1.00       $4.35           91.84  \n",
       "3           $0.00       $0.00           13.25  \n",
       "4           $0.00       $0.00           36.97  "
      ]
     },
     "execution_count": 184,
     "metadata": {},
     "output_type": "execute_result"
    }
   ],
   "source": [
    "#change order date to datetime\n",
    "df2['Order Date'] = pd.to_datetime(df2['Order Date'])\n",
    "df2.head()"
   ]
  },
  {
   "cell_type": "code",
   "execution_count": 185,
   "metadata": {},
   "outputs": [
    {
     "data": {
      "text/plain": [
       "<AxesSubplot:xlabel='Order Date'>"
      ]
     },
     "execution_count": 185,
     "metadata": {},
     "output_type": "execute_result"
    },
    {
     "data": {
      "image/png": "[encoded data removed]",
      "text/plain": [
       "<Figure size 1800x1080 with 1 Axes>"
      ]
     },
     "metadata": {
      "needs_background": "light"
     },
     "output_type": "display_data"
    }
   ],
   "source": [
    "#plot of order date and total charge, for year 2019\n",
    "df2.plot.bar(x='Order Date', y='Total Charged', rot=90, figsize = (25,15), color='orange')"
   ]
  },
  {
   "cell_type": "code",
   "execution_count": 186,
   "metadata": {},
   "outputs": [
    {
     "data": {
      "text/plain": [
       "Order Date\n",
       "2019-01-05     62.09\n",
       "2019-01-07    110.69\n",
       "2019-01-09     13.25\n",
       "2019-01-15     36.97\n",
       "2019-01-21     29.98\n",
       "Name: Total Charged, dtype: float64"
      ]
     },
     "execution_count": 186,
     "metadata": {},
     "output_type": "execute_result"
    }
   ],
   "source": [
    "#gorup charges by date\n",
    "grouped_orders2 = df2.groupby('Order Date').sum()[\"Total Charged\"]\n",
    "grouped_orders2.head()"
   ]
  },
  {
   "cell_type": "code",
   "execution_count": 187,
   "metadata": {},
   "outputs": [
    {
     "data": {
      "text/plain": [
       "<AxesSubplot:title={'center':'Amazon Orders by Date, 2019'}, xlabel='Order Date'>"
      ]
     },
     "execution_count": 187,
     "metadata": {},
     "output_type": "execute_result"
    },
    {
     "data": {
      "image/png": "[encoded data removed]",
      "text/plain": [
       "<Figure size 1800x1080 with 1 Axes>"
      ]
     },
     "metadata": {
      "needs_background": "light"
     },
     "output_type": "display_data"
    }
   ],
   "source": [
    "#plot of grouped charges and total charge \n",
    "grouped_orders2.plot.bar(figsize=(25,15), color= 'orange', title=\"Amazon Orders by Date, 2019\")"
   ]
  },
  {
   "cell_type": "code",
   "execution_count": 188,
   "metadata": {},
   "outputs": [
    {
     "data": {
      "text/plain": [
       "1074.17"
      ]
     },
     "execution_count": 188,
     "metadata": {},
     "output_type": "execute_result"
    }
   ],
   "source": [
    "grouped_orders2.max()"
   ]
  },
  {
   "cell_type": "code",
   "execution_count": 189,
   "metadata": {},
   "outputs": [
    {
     "data": {
      "text/plain": [
       "7.56"
      ]
     },
     "execution_count": 189,
     "metadata": {},
     "output_type": "execute_result"
    }
   ],
   "source": [
    "grouped_orders2.min()"
   ]
  },
  {
   "cell_type": "code",
   "execution_count": 190,
   "metadata": {},
   "outputs": [],
   "source": [
    "import numpy as np"
   ]
  },
  {
   "cell_type": "code",
   "execution_count": 191,
   "metadata": {},
   "outputs": [
    {
     "data": {
      "image/png": "[encoded data removed]",
      "text/plain": [
       "<Figure size 432x288 with 1 Axes>"
      ]
     },
     "metadata": {
      "needs_background": "light"
     },
     "output_type": "display_data"
    }
   ],
   "source": [
    "#bar chart comparing total spending in 2019 and 2020\n",
    "\n",
    "import matplotlib.pyplot as plt\n",
    "x= np.array ([\"2019\", \"2020\"])\n",
    "y = np. array ([d, b])\n",
    "\n",
    "plt.bar(x,y, color=[\"orange\", \"blue\"])\n",
    "plt.show()"
   ]
  },
  {
   "cell_type": "code",
   "execution_count": null,
   "metadata": {},
   "outputs": [],
   "source": []
  },
  {
   "cell_type": "code",
   "execution_count": null,
   "metadata": {},
   "outputs": [],
   "source": []
  }
 ],
 "metadata": {
  "kernelspec": {
   "display_name": "Python 3",
   "language": "python",
   "name": "python3"
  },
  "language_info": {
   "codemirror_mode": {
    "name": "ipython",
    "version": 3
   },
   "file_extension": ".py",
   "mimetype": "text/x-python",
   "name": "python",
   "nbconvert_exporter": "python",
   "pygments_lexer": "ipython3",
   "version": "3.8.5"
  }
 },
 "nbformat": 4,
 "nbformat_minor": 4
}

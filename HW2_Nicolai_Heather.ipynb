{
 "cells": [
  {
   "cell_type": "markdown",
   "metadata": {},
   "source": [
    "Heather Nicolai \n",
    "Homework 2 \n",
    "\n",
    "1.\tFor all the items in your favorite color list, print out each item. (tips: create your color list first). [1 point]\n",
    "2.\tUsing For Loop. As long as n is less than 10, print out n. (Initialize n=0). [1 point]\n",
    "3.\tUsing While Loop. As long as n is less than 10, print out n. (Initialize n=0). [1 point]\n",
    "4.\tUsing while loop. While n is <= 10, print out n. Otherwise, print out “greater than 10”.  [1 point]\n",
    "5.\tAdd all the integers from 1 to 30, print out the sum. Using while loop.  [1 point]\n"
   ]
  },
  {
   "cell_type": "code",
   "execution_count": 1,
   "metadata": {},
   "outputs": [
    {
     "name": "stdout",
     "output_type": "stream",
     "text": [
      "<class 'list'>\n",
      "['purple', 'green', 'blue', 'orange']\n"
     ]
    }
   ],
   "source": [
    "#1 \n",
    "\n",
    "favcolor = [\"purple\", \"green\", \"blue\", \"orange\"]\n",
    "print(type(favcolor))\n",
    "print(favcolor)"
   ]
  },
  {
   "cell_type": "code",
   "execution_count": 2,
   "metadata": {},
   "outputs": [
    {
     "data": {
      "text/plain": [
       "'purple'"
      ]
     },
     "execution_count": 2,
     "metadata": {},
     "output_type": "execute_result"
    }
   ],
   "source": [
    "favcolor[0]"
   ]
  },
  {
   "cell_type": "code",
   "execution_count": 3,
   "metadata": {},
   "outputs": [
    {
     "data": {
      "text/plain": [
       "'green'"
      ]
     },
     "execution_count": 3,
     "metadata": {},
     "output_type": "execute_result"
    }
   ],
   "source": [
    "favcolor[1]"
   ]
  },
  {
   "cell_type": "code",
   "execution_count": 4,
   "metadata": {},
   "outputs": [
    {
     "data": {
      "text/plain": [
       "'blue'"
      ]
     },
     "execution_count": 4,
     "metadata": {},
     "output_type": "execute_result"
    }
   ],
   "source": [
    "favcolor[2]"
   ]
  },
  {
   "cell_type": "code",
   "execution_count": 5,
   "metadata": {},
   "outputs": [
    {
     "data": {
      "text/plain": [
       "'orange'"
      ]
     },
     "execution_count": 5,
     "metadata": {},
     "output_type": "execute_result"
    }
   ],
   "source": [
    "favcolor[3]"
   ]
  },
  {
   "cell_type": "code",
   "execution_count": 19,
   "metadata": {},
   "outputs": [
    {
     "name": "stdout",
     "output_type": "stream",
     "text": [
      "0\n",
      "1\n",
      "2\n",
      "3\n",
      "4\n",
      "5\n",
      "6\n",
      "7\n",
      "8\n",
      "9\n"
     ]
    }
   ],
   "source": [
    "#2 \n",
    "\n",
    "n = 0 \n",
    "for n in range (10): \n",
    "    print (n)\n",
    "    "
   ]
  },
  {
   "cell_type": "code",
   "execution_count": 7,
   "metadata": {},
   "outputs": [
    {
     "name": "stdout",
     "output_type": "stream",
     "text": [
      "0\n",
      "1\n",
      "2\n",
      "3\n",
      "4\n",
      "5\n",
      "6\n",
      "7\n",
      "8\n",
      "9\n"
     ]
    }
   ],
   "source": [
    "#3 \n",
    "\n",
    "n = 0 \n",
    "while n < 10: \n",
    "    print(n)\n",
    "    n = n + 1\n"
   ]
  },
  {
   "cell_type": "code",
   "execution_count": 20,
   "metadata": {},
   "outputs": [
    {
     "name": "stdout",
     "output_type": "stream",
     "text": [
      "0\n",
      "1\n",
      "2\n",
      "3\n",
      "4\n",
      "5\n",
      "6\n",
      "7\n",
      "8\n",
      "9\n",
      "10\n",
      "greater than 10\n"
     ]
    }
   ],
   "source": [
    "#4\n",
    "\n",
    "n = 0 \n",
    "\n",
    "while n <= 10: \n",
    "    print (n)\n",
    "    n = n + 1\n",
    "else: \n",
    "    print(\"greater than 10\")"
   ]
  },
  {
   "cell_type": "code",
   "execution_count": 26,
   "metadata": {},
   "outputs": [
    {
     "name": "stdout",
     "output_type": "stream",
     "text": [
      "i is 1 , cumulative sum is  1\n",
      "i is 2 , cumulative sum is  3\n",
      "i is 3 , cumulative sum is  6\n",
      "i is 4 , cumulative sum is  10\n",
      "i is 5 , cumulative sum is  15\n",
      "i is 6 , cumulative sum is  21\n",
      "i is 7 , cumulative sum is  28\n",
      "i is 8 , cumulative sum is  36\n",
      "i is 9 , cumulative sum is  45\n",
      "i is 10 , cumulative sum is  55\n",
      "i is 11 , cumulative sum is  66\n",
      "i is 12 , cumulative sum is  78\n",
      "i is 13 , cumulative sum is  91\n",
      "i is 14 , cumulative sum is  105\n",
      "i is 15 , cumulative sum is  120\n",
      "i is 16 , cumulative sum is  136\n",
      "i is 17 , cumulative sum is  153\n",
      "i is 18 , cumulative sum is  171\n",
      "i is 19 , cumulative sum is  190\n",
      "i is 20 , cumulative sum is  210\n",
      "i is 21 , cumulative sum is  231\n",
      "i is 22 , cumulative sum is  253\n",
      "i is 23 , cumulative sum is  276\n",
      "i is 24 , cumulative sum is  300\n",
      "i is 25 , cumulative sum is  325\n",
      "i is 26 , cumulative sum is  351\n",
      "i is 27 , cumulative sum is  378\n",
      "i is 28 , cumulative sum is  406\n",
      "i is 29 , cumulative sum is  435\n",
      "i is 30 , cumulative sum is  465\n",
      "Final sum of all integers from 1 to 30 is 465\n"
     ]
    }
   ],
   "source": [
    "#5 \n",
    "\n",
    "n=30\n",
    "sum = 0 \n",
    "i = 1 \n",
    "\n",
    "while i <= n: \n",
    "    sum = sum + i\n",
    "    print (\"i is\", i, \", cumulative sum is \", sum)\n",
    "    i = i + 1 \n",
    "print (\"Final sum of all integers from 1 to 30 is\",sum)"
   ]
  },
  {
   "cell_type": "code",
   "execution_count": null,
   "metadata": {},
   "outputs": [],
   "source": []
  }
 ],
 "metadata": {
  "kernelspec": {
   "display_name": "Python 3",
   "language": "python",
   "name": "python3"
  },
  "language_info": {
   "codemirror_mode": {
    "name": "ipython",
    "version": 3
   },
   "file_extension": ".py",
   "mimetype": "text/x-python",
   "name": "python",
   "nbconvert_exporter": "python",
   "pygments_lexer": "ipython3",
   "version": "3.8.5"
  }
 },
 "nbformat": 4,
 "nbformat_minor": 4
}

{
 "cells": [
  {
   "cell_type": "code",
   "execution_count": 4,
   "metadata": {},
   "outputs": [
    {
     "name": "stdout",
     "output_type": "stream",
     "text": [
      "<class 'list'>\n",
      "['green', 'blue', 'purple', 'orange']\n"
     ]
    }
   ],
   "source": [
    "#1. List of favorite colors \n",
    "\n",
    "favcolors=[\"green\", \"blue\", \"purple\", \"orange\"]\n",
    "print(type(favcolors))\n",
    "print(favcolors)"
   ]
  },
  {
   "cell_type": "code",
   "execution_count": 6,
   "metadata": {},
   "outputs": [
    {
     "name": "stdout",
     "output_type": "stream",
     "text": [
      "[30, 33, 36, 39, 42, 45, 48, 51, 54, 57, 60]\n"
     ]
    }
   ],
   "source": [
    "#2. generate list of numbers from 30 to go with interval 3\n",
    "\n",
    "nums=list(range(30, 63, 3))\n",
    "print(nums)"
   ]
  },
  {
   "cell_type": "code",
   "execution_count": 7,
   "metadata": {
    "scrolled": true
   },
   "outputs": [
    {
     "name": "stdout",
     "output_type": "stream",
     "text": [
      "<class 'dict'>\n",
      "{'Sunny': 'play', 'Rainy': 'watching TV', 'Cloudy': 'walk'}\n"
     ]
    }
   ],
   "source": [
    "#3. Create dictionary \n",
    "\n",
    "dictionary = {\"Sunny\": \"play\", \n",
    "             \"Rainy\": \"watching TV\",\n",
    "             \"Cloudy\": \"walk\"}\n",
    "print(type(dictionary))\n",
    "print(dictionary)"
   ]
  },
  {
   "cell_type": "code",
   "execution_count": 13,
   "metadata": {},
   "outputs": [
    {
     "name": "stdout",
     "output_type": "stream",
     "text": [
      "{'Sunny': 'play', 'Rainy': 'watching TV', 'Cloudy': 'walk', 'snowy': 'ski'}\n"
     ]
    }
   ],
   "source": [
    "#add new pair to dictionary \n",
    "\n",
    "dictionary.update({\"snowy\": \"ski\"})\n",
    "print(dictionary)"
   ]
  },
  {
   "cell_type": "code",
   "execution_count": 17,
   "metadata": {},
   "outputs": [],
   "source": [
    "#4. using if...elif...else statement to help grade student scores \n",
    "\n",
    "grade = 90\n",
    "    "
   ]
  },
  {
   "cell_type": "code",
   "execution_count": 18,
   "metadata": {},
   "outputs": [
    {
     "name": "stdout",
     "output_type": "stream",
     "text": [
      "A\n"
     ]
    }
   ],
   "source": [
    "\n",
    "if grade >= 90: \n",
    "    print('A')\n",
    "elif grade >= 80: \n",
    "    print('B')\n",
    "elif grade >= 70: \n",
    "    print('C')\n",
    "else: \n",
    "    print('F')"
   ]
  },
  {
   "cell_type": "code",
   "execution_count": null,
   "metadata": {},
   "outputs": [],
   "source": []
  },
  {
   "cell_type": "code",
   "execution_count": null,
   "metadata": {},
   "outputs": [],
   "source": []
  }
 ],
 "metadata": {
  "kernelspec": {
   "display_name": "Python 3",
   "language": "python",
   "name": "python3"
  },
  "language_info": {
   "codemirror_mode": {
    "name": "ipython",
    "version": 3
   },
   "file_extension": ".py",
   "mimetype": "text/x-python",
   "name": "python",
   "nbconvert_exporter": "python",
   "pygments_lexer": "ipython3",
   "version": "3.8.5"
  }
 },
 "nbformat": 4,
 "nbformat_minor": 4
}
